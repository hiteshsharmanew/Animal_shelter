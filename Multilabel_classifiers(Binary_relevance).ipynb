{
  "nbformat": 4,
  "nbformat_minor": 0,
  "metadata": {
    "colab": {
      "name": "Multilabel classifiers(Binary relevance).ipynb",
      "provenance": [],
      "collapsed_sections": []
    },
    "kernelspec": {
      "name": "python3",
      "display_name": "Python 3"
    }
  },
  "cells": [
    {
      "cell_type": "markdown",
      "metadata": {
        "id": "4Bw2yw5AtUbV",
        "colab_type": "text"
      },
      "source": [
        "# Notebook contains training and testing of different classifiers\n"
      ]
    },
    {
      "cell_type": "code",
      "metadata": {
        "id": "VGOcDTrqy1rD",
        "colab_type": "code",
        "colab": {}
      },
      "source": [
        ""
      ],
      "execution_count": 0,
      "outputs": []
    },
    {
      "cell_type": "code",
      "metadata": {
        "id": "2jeS_feT71W9",
        "colab_type": "code",
        "colab": {}
      },
      "source": [
        ""
      ],
      "execution_count": 0,
      "outputs": []
    },
    {
      "cell_type": "code",
      "metadata": {
        "id": "pUqQWdfhYkan",
        "colab_type": "code",
        "colab": {}
      },
      "source": [
        "import numpy as np\n",
        "import matplotlib.pyplot as plt\n",
        "import pandas as pd\n",
        "\n",
        "# Importing the dataset\n",
        "dataset = pd.read_excel('edited master copy.xlsx')\n",
        "dataset = dataset[dataset['sex_upon_intake'].notna()]\n",
        "\n",
        "\n",
        "##taking intake age and intake number\n",
        "X = dataset.iloc[:, [1,4,5,6,7,9,11,13]].values\n",
        "y = dataset.iloc[:, 14].values\n",
        "\n",
        "\n",
        "# Feature Scaling\n",
        "#from sklearn.preprocessing import StandardScaler\n",
        "#sc = StandardScaler()\n",
        "#X_train = sc.fit_transform(X_train)\n",
        "#X_test = sc.transform(X_test)\n",
        "\n",
        "\n",
        "\n",
        "\n",
        "\n",
        "\n"
      ],
      "execution_count": 0,
      "outputs": []
    },
    {
      "cell_type": "code",
      "metadata": {
        "id": "gE005zC-a2VL",
        "colab_type": "code",
        "outputId": "76baefc1-c1e4-491b-9166-cb4f249196fe",
        "colab": {
          "base_uri": "https://localhost:8080/",
          "height": 35
        }
      },
      "source": [
        "\n",
        "\n",
        "len(dataset)"
      ],
      "execution_count": 2,
      "outputs": [
        {
          "output_type": "execute_result",
          "data": {
            "text/plain": [
              "47802"
            ]
          },
          "metadata": {
            "tags": []
          },
          "execution_count": 2
        }
      ]
    },
    {
      "cell_type": "code",
      "metadata": {
        "id": "_sNl2rUCa732",
        "colab_type": "code",
        "colab": {}
      },
      "source": [
        "from sklearn.preprocessing import LabelEncoder , OneHotEncoder\n",
        "from sklearn.compose import ColumnTransformer\n",
        "labelcoder_y = LabelEncoder()\n",
        "y = labelcoder_y.fit_transform(y)\n",
        "\n",
        "\n",
        "\n",
        "\n",
        "\n",
        "\n"
      ],
      "execution_count": 0,
      "outputs": []
    },
    {
      "cell_type": "code",
      "metadata": {
        "id": "hEops4-1bHZR",
        "colab_type": "code",
        "outputId": "172da6c4-1c6c-45dc-82b7-789d20ad67b1",
        "colab": {
          "base_uri": "https://localhost:8080/",
          "height": 35
        }
      },
      "source": [
        "y"
      ],
      "execution_count": 4,
      "outputs": [
        {
          "output_type": "execute_result",
          "data": {
            "text/plain": [
              "array([6, 6, 6, ..., 6, 0, 3])"
            ]
          },
          "metadata": {
            "tags": []
          },
          "execution_count": 4
        }
      ]
    },
    {
      "cell_type": "code",
      "metadata": {
        "id": "1tvTPzcZFRod",
        "colab_type": "code",
        "outputId": "51e790e3-311c-49c6-852c-a7cb220f917b",
        "colab": {
          "base_uri": "https://localhost:8080/",
          "height": 35
        }
      },
      "source": [
        "le_name_mapping = dict(zip(labelcoder_y.classes_, labelcoder_y.transform(labelcoder_y.classes_)))\n",
        "print(le_name_mapping)"
      ],
      "execution_count": 5,
      "outputs": [
        {
          "output_type": "stream",
          "text": [
            "{'Adoption': 0, 'Died': 1, 'Disposal': 2, 'Euthanasia': 3, 'Missing': 4, 'Relocate': 5, 'Return to Owner': 6, 'Rto-Adopt': 7, 'Transfer': 8}\n"
          ],
          "name": "stdout"
        }
      ]
    },
    {
      "cell_type": "code",
      "metadata": {
        "id": "iFlvlpwnEe9n",
        "colab_type": "code",
        "outputId": "a3831117-7676-4432-c0a1-633b2659e84b",
        "colab": {
          "base_uri": "https://localhost:8080/",
          "height": 35
        }
      },
      "source": [
        "y[0:10]"
      ],
      "execution_count": 6,
      "outputs": [
        {
          "output_type": "execute_result",
          "data": {
            "text/plain": [
              "array([6, 6, 6, 4, 6, 6, 6, 6, 6, 6])"
            ]
          },
          "metadata": {
            "tags": []
          },
          "execution_count": 6
        }
      ]
    },
    {
      "cell_type": "code",
      "metadata": {
        "id": "NiJo7yAZGdO1",
        "colab_type": "code",
        "colab": {}
      },
      "source": [
        ""
      ],
      "execution_count": 0,
      "outputs": []
    },
    {
      "cell_type": "code",
      "metadata": {
        "id": "_a3XAp8GbowK",
        "colab_type": "code",
        "outputId": "c63e4ee9-cef8-4c47-fe6a-45b22f7987c7",
        "colab": {
          "base_uri": "https://localhost:8080/",
          "height": 52
        }
      },
      "source": [
        "X[100, :]\n"
      ],
      "execution_count": 7,
      "outputs": [
        {
          "output_type": "execute_result",
          "data": {
            "text/plain": [
              "array(['Dog', 'Aged', 'Stray', 'Spayed Female', 14.0, 1, 'Spayed Female',\n",
              "       5112.231944], dtype=object)"
            ]
          },
          "metadata": {
            "tags": []
          },
          "execution_count": 7
        }
      ]
    },
    {
      "cell_type": "code",
      "metadata": {
        "id": "Gcjdh1QzYpmQ",
        "colab_type": "code",
        "colab": {}
      },
      "source": [
        "ct = ColumnTransformer([(\"encoding\", OneHotEncoder(), [0,1,2,3,6])], remainder = 'passthrough')\n",
        "X = ct.fit_transform(X)"
      ],
      "execution_count": 0,
      "outputs": []
    },
    {
      "cell_type": "code",
      "metadata": {
        "id": "vDuMwTIQYppW",
        "colab_type": "code",
        "outputId": "18a78613-6fa0-42e9-c659-05d54ad9231f",
        "colab": {
          "base_uri": "https://localhost:8080/",
          "height": 52
        }
      },
      "source": [
        "X[100, :]"
      ],
      "execution_count": 9,
      "outputs": [
        {
          "output_type": "execute_result",
          "data": {
            "text/plain": [
              "<1x30 sparse matrix of type '<class 'numpy.float64'>'\n",
              "\twith 8 stored elements in Compressed Sparse Row format>"
            ]
          },
          "metadata": {
            "tags": []
          },
          "execution_count": 9
        }
      ]
    },
    {
      "cell_type": "code",
      "metadata": {
        "id": "GgzrjVTaYm5f",
        "colab_type": "code",
        "colab": {}
      },
      "source": [
        ""
      ],
      "execution_count": 0,
      "outputs": []
    },
    {
      "cell_type": "code",
      "metadata": {
        "id": "bLSPx8uVa7Dq",
        "colab_type": "code",
        "colab": {}
      },
      "source": [
        "# Splitting the dataset into the Training set and Test set\n",
        "#from sklearn.cross_validation import train_test_split\n",
        "\n",
        "from sklearn.model_selection import train_test_split\n",
        "X_train, X_test, y_train, y_test = train_test_split(X, y, test_size = 0.20, random_state = 0)"
      ],
      "execution_count": 0,
      "outputs": []
    },
    {
      "cell_type": "code",
      "metadata": {
        "id": "FFMgp_Rir9Wi",
        "colab_type": "code",
        "outputId": "c04db44c-e78b-410c-a256-01d0a22c3739",
        "colab": {
          "base_uri": "https://localhost:8080/",
          "height": 52
        }
      },
      "source": [
        "X_train"
      ],
      "execution_count": 11,
      "outputs": [
        {
          "output_type": "execute_result",
          "data": {
            "text/plain": [
              "<38241x30 sparse matrix of type '<class 'numpy.float64'>'\n",
              "\twith 305750 stored elements in Compressed Sparse Row format>"
            ]
          },
          "metadata": {
            "tags": []
          },
          "execution_count": 11
        }
      ]
    },
    {
      "cell_type": "code",
      "metadata": {
        "id": "_LUn0tT5r_sc",
        "colab_type": "code",
        "outputId": "218cf712-3333-4cc1-925c-dfc64ceb2d2a",
        "colab": {
          "base_uri": "https://localhost:8080/",
          "height": 35
        }
      },
      "source": [
        "y_train"
      ],
      "execution_count": 12,
      "outputs": [
        {
          "output_type": "execute_result",
          "data": {
            "text/plain": [
              "array([5, 0, 1, ..., 0, 7, 0])"
            ]
          },
          "metadata": {
            "tags": []
          },
          "execution_count": 12
        }
      ]
    },
    {
      "cell_type": "markdown",
      "metadata": {
        "id": "ox3dO6Qop8XM",
        "colab_type": "text"
      },
      "source": [
        ""
      ]
    },
    {
      "cell_type": "markdown",
      "metadata": {
        "id": "Sxr9I8kFp8T1",
        "colab_type": "text"
      },
      "source": [
        ""
      ]
    },
    {
      "cell_type": "markdown",
      "metadata": {
        "id": "i1IkuHMtp8Qz",
        "colab_type": "text"
      },
      "source": [
        ""
      ]
    },
    {
      "cell_type": "code",
      "metadata": {
        "id": "9KEJOUGIp-Kp",
        "colab_type": "code",
        "outputId": "90ced457-6fa8-439a-f1bc-f49115d40d35",
        "colab": {
          "base_uri": "https://localhost:8080/",
          "height": 141
        }
      },
      "source": [
        "from xgboost import XGBClassifier\n",
        "classifier1 = XGBClassifier()\n",
        "classifier1.fit(X_train, y_train)\n"
      ],
      "execution_count": 13,
      "outputs": [
        {
          "output_type": "execute_result",
          "data": {
            "text/plain": [
              "XGBClassifier(base_score=0.5, booster='gbtree', colsample_bylevel=1,\n",
              "              colsample_bynode=1, colsample_bytree=1, gamma=0,\n",
              "              learning_rate=0.1, max_delta_step=0, max_depth=3,\n",
              "              min_child_weight=1, missing=None, n_estimators=100, n_jobs=1,\n",
              "              nthread=None, objective='multi:softprob', random_state=0,\n",
              "              reg_alpha=0, reg_lambda=1, scale_pos_weight=1, seed=None,\n",
              "              silent=None, subsample=1, verbosity=1)"
            ]
          },
          "metadata": {
            "tags": []
          },
          "execution_count": 13
        }
      ]
    },
    {
      "cell_type": "code",
      "metadata": {
        "colab_type": "code",
        "id": "FanrkgE-rYlc",
        "colab": {}
      },
      "source": [
        "y_pred = classifier1.predict(X_test)"
      ],
      "execution_count": 0,
      "outputs": []
    },
    {
      "cell_type": "code",
      "metadata": {
        "colab_type": "code",
        "outputId": "1a7ade24-4872-4c04-e1b4-5f3e9b70ef2d",
        "id": "3yH1JL-erYlg",
        "colab": {
          "base_uri": "https://localhost:8080/",
          "height": 177
        }
      },
      "source": [
        "from sklearn.metrics import confusion_matrix\n",
        "cm_xgboost = confusion_matrix(y_test, y_pred)\n",
        "cm_xgboost\n"
      ],
      "execution_count": 15,
      "outputs": [
        {
          "output_type": "execute_result",
          "data": {
            "text/plain": [
              "array([[2203,    0,    0,   17,    0,    0,  312,    0,   75],\n",
              "       [ 318,    0,    0,   28,    0,    0,   66,    0,  170],\n",
              "       [   0,    0,    7,   26,    0,    0,    1,    0,    0],\n",
              "       [  62,    1,    1,  516,    0,    0,   82,    0,  127],\n",
              "       [ 348,    1,    0,    8,    0,    0,   67,    0,  133],\n",
              "       [ 298,    0,    0,    7,    0,    0,   80,    0,  139],\n",
              "       [ 271,    0,    0,   25,    0,    0, 1588,    0,   44],\n",
              "       [ 282,    0,    0,    7,    0,    0,   64,    0,  120],\n",
              "       [ 612,    1,    0,   51,    0,    0,  236,    0, 1167]])"
            ]
          },
          "metadata": {
            "tags": []
          },
          "execution_count": 15
        }
      ]
    },
    {
      "cell_type": "markdown",
      "metadata": {
        "id": "OoO8aw8duwfI",
        "colab_type": "text"
      },
      "source": [
        "{'Adoption': 0, 'Died': 1, 'Disposal': 2, 'Euthanasia': 3, 'Missing': 4, 'Relocate': 5, 'Return to Owner': 6, 'Rto-Adopt': 7, 'Transfer': 8}"
      ]
    },
    {
      "cell_type": "markdown",
      "metadata": {
        "id": "D-M0zjJou2BR",
        "colab_type": "text"
      },
      "source": [
        "model performs well on classes 'Adoption' and 'transfer' as most of the samples are distributed between these two classes. Also poor performane is observed for 'disposal' and 'RTO-Adopt'."
      ]
    },
    {
      "cell_type": "code",
      "metadata": {
        "colab_type": "code",
        "outputId": "61c07d4c-0a2c-4aab-a5a9-50c5b98f7e8c",
        "id": "XT_3c9NArYlj",
        "colab": {
          "base_uri": "https://localhost:8080/",
          "height": 35
        }
      },
      "source": [
        "from sklearn.model_selection import cross_val_score\n",
        "accuracies = cross_val_score(estimator = classifier1, X = X_train, y = y_train, cv = 5)\n",
        "accuracies.mean()\n"
      ],
      "execution_count": 16,
      "outputs": [
        {
          "output_type": "execute_result",
          "data": {
            "text/plain": [
              "0.5719776589058323"
            ]
          },
          "metadata": {
            "tags": []
          },
          "execution_count": 16
        }
      ]
    },
    {
      "cell_type": "markdown",
      "metadata": {
        "id": "jmE-1B_etrKU",
        "colab_type": "text"
      },
      "source": [
        "# So a Xgboost without any parameter tuning gives us an average accuracy = 0.57 ."
      ]
    },
    {
      "cell_type": "markdown",
      "metadata": {
        "id": "BJIqtqDkt727",
        "colab_type": "text"
      },
      "source": [
        "Lets implement some other well known classfiers just to see how well they are performing\n",
        " "
      ]
    },
    {
      "cell_type": "code",
      "metadata": {
        "id": "oAt4O_he7fEG",
        "colab_type": "code",
        "colab": {
          "base_uri": "https://localhost:8080/",
          "height": 126
        },
        "outputId": "bbecd0d2-7a2f-48fa-978f-2893251c15c2"
      },
      "source": [
        "!pip install scikit-multilearn"
      ],
      "execution_count": 19,
      "outputs": [
        {
          "output_type": "stream",
          "text": [
            "Collecting scikit-multilearn\n",
            "\u001b[?25l  Downloading https://files.pythonhosted.org/packages/bb/1f/e6ff649c72a1cdf2c7a1d31eb21705110ce1c5d3e7e26b2cc300e1637272/scikit_multilearn-0.2.0-py3-none-any.whl (89kB)\n",
            "\r\u001b[K     |███▊                            | 10kB 18.7MB/s eta 0:00:01\r\u001b[K     |███████▍                        | 20kB 1.8MB/s eta 0:00:01\r\u001b[K     |███████████                     | 30kB 2.6MB/s eta 0:00:01\r\u001b[K     |██████████████▊                 | 40kB 3.4MB/s eta 0:00:01\r\u001b[K     |██████████████████▍             | 51kB 2.1MB/s eta 0:00:01\r\u001b[K     |██████████████████████          | 61kB 2.5MB/s eta 0:00:01\r\u001b[K     |█████████████████████████▊      | 71kB 2.9MB/s eta 0:00:01\r\u001b[K     |█████████████████████████████▍  | 81kB 3.3MB/s eta 0:00:01\r\u001b[K     |████████████████████████████████| 92kB 2.9MB/s \n",
            "\u001b[?25hInstalling collected packages: scikit-multilearn\n",
            "Successfully installed scikit-multilearn-0.2.0\n"
          ],
          "name": "stdout"
        }
      ]
    },
    {
      "cell_type": "markdown",
      "metadata": {
        "id": "82gXG3DduOLw",
        "colab_type": "text"
      },
      "source": [
        "I will use a a binary relevance model from skmultilearn"
      ]
    },
    {
      "cell_type": "markdown",
      "metadata": {
        "id": "MSV4sRWJug34",
        "colab_type": "text"
      },
      "source": [
        "In this case an ensemble of single-label binary classifiers is trained, one for each class. Each classifier predicts either the membership or the non-membership of one class. The union of all classes that were predicted is taken as the multi-label output. This approach is popular because it is easy to implement, however it also ignores the possible correlations between class labels."
      ]
    },
    {
      "cell_type": "code",
      "metadata": {
        "id": "GKXUkPmY2ysH",
        "colab_type": "code",
        "colab": {
          "base_uri": "https://localhost:8080/",
          "height": 141
        },
        "outputId": "a9e38fa7-2b28-4693-f54b-db23a4abf800"
      },
      "source": [
        "# using binary relevance\n",
        "from skmultilearn.problem_transform import BinaryRelevance\n",
        "from sklearn.naive_bayes import GaussianNB\n",
        "from sklearn.metrics import accuracy_score\n",
        "ndarray = np.ndarray(shape=(9561,1),dtype = int )\n",
        "# initialize binary relevance multi-label classifier\n",
        "# with a gaussian naive bayes base classifier\n",
        "classifier2 = BinaryRelevance(GaussianNB())\n",
        "# train\n",
        "classifier2.fit(X_train, y_train)\n",
        "# predict\n",
        "predictions = classifier2.predict(X_test)\n",
        "predictions.toarray(out=ndarray)\n",
        "# accuracy\n",
        "#print(\"Accuracy = \",accuracy_score(y_test,predictions))"
      ],
      "execution_count": 61,
      "outputs": [
        {
          "output_type": "execute_result",
          "data": {
            "text/plain": [
              "array([[3],\n",
              "       [0],\n",
              "       [8],\n",
              "       ...,\n",
              "       [6],\n",
              "       [0],\n",
              "       [6]])"
            ]
          },
          "metadata": {
            "tags": []
          },
          "execution_count": 61
        }
      ]
    },
    {
      "cell_type": "code",
      "metadata": {
        "id": "W-wkQ7EU9elg",
        "colab_type": "code",
        "colab": {
          "base_uri": "https://localhost:8080/",
          "height": 35
        },
        "outputId": "7950b8bf-f6a9-401d-93fe-fdb48a698058"
      },
      "source": [
        "y_test"
      ],
      "execution_count": 62,
      "outputs": [
        {
          "output_type": "execute_result",
          "data": {
            "text/plain": [
              "array([8, 0, 8, ..., 4, 6, 7])"
            ]
          },
          "metadata": {
            "tags": []
          },
          "execution_count": 62
        }
      ]
    },
    {
      "cell_type": "code",
      "metadata": {
        "id": "J2k3PWqB9iQo",
        "colab_type": "code",
        "colab": {
          "base_uri": "https://localhost:8080/",
          "height": 35
        },
        "outputId": "60d1c1b7-cc44-478a-f52a-fe15cc40b894"
      },
      "source": [
        "ndarray[: , 0]"
      ],
      "execution_count": 63,
      "outputs": [
        {
          "output_type": "execute_result",
          "data": {
            "text/plain": [
              "array([3, 0, 8, ..., 6, 0, 6])"
            ]
          },
          "metadata": {
            "tags": []
          },
          "execution_count": 63
        }
      ]
    },
    {
      "cell_type": "code",
      "metadata": {
        "id": "VCOLLYVLCFqB",
        "colab_type": "code",
        "colab": {
          "base_uri": "https://localhost:8080/",
          "height": 35
        },
        "outputId": "b215a434-89bb-4aa0-d5cf-1003ede260ca"
      },
      "source": [
        "print(\"Accuracy = \",accuracy_score(y_test,ndarray[: , 0]))"
      ],
      "execution_count": 64,
      "outputs": [
        {
          "output_type": "stream",
          "text": [
            "Accuracy =  0.489070180943416\n"
          ],
          "name": "stdout"
        }
      ]
    },
    {
      "cell_type": "code",
      "metadata": {
        "id": "XjcoSANXD8CZ",
        "colab_type": "code",
        "colab": {
          "base_uri": "https://localhost:8080/",
          "height": 177
        },
        "outputId": "3e049bc3-f5ef-4cf0-90d9-46d13b1cdd5f"
      },
      "source": [
        "from sklearn.metrics import confusion_matrix\n",
        "cm_binaryrel = confusion_matrix(y_test, ndarray[: , 0])\n",
        "cm_binaryrel\n"
      ],
      "execution_count": 65,
      "outputs": [
        {
          "output_type": "execute_result",
          "data": {
            "text/plain": [
              "array([[2031,   11,   13,   48,    1,    7,  398,    3,   95],\n",
              "       [ 301,    3,   11,   39,    0,    2,   82,    1,  143],\n",
              "       [   0,    0,   31,    2,    0,    0,    1,    0,    0],\n",
              "       [  60,    1,  340,  221,    0,    3,   85,    0,   79],\n",
              "       [ 339,    1,    1,   26,    0,    1,   77,    0,  112],\n",
              "       [ 281,    0,    4,   20,    0,    4,   95,    3,  117],\n",
              "       [ 397,    2,    4,   42,    1,    5, 1423,    0,   54],\n",
              "       [ 264,    1,    2,   13,    0,    1,   80,    0,  112],\n",
              "       [ 602,    3,   18,  157,    0,    8,  314,    2,  963]])"
            ]
          },
          "metadata": {
            "tags": []
          },
          "execution_count": 65
        }
      ]
    },
    {
      "cell_type": "markdown",
      "metadata": {
        "id": "ox3Kl7jUvc4X",
        "colab_type": "text"
      },
      "source": [
        "Though there is a decrease in accuracy , f1 score on test dataset is likely to increase . if we compare both the cm you will observe that prediction for class 'Disposal' has now increased."
      ]
    },
    {
      "cell_type": "markdown",
      "metadata": {
        "id": "BrRLZbl_wMEW",
        "colab_type": "text"
      },
      "source": [
        "# Classfier chains"
      ]
    },
    {
      "cell_type": "markdown",
      "metadata": {
        "id": "qbZx_S4_wZkK",
        "colab_type": "text"
      },
      "source": [
        "A chain of binary classifiers C0, C1, . . . , Cn is constructed, where a classifier Ci uses the predictions of all the classifier Cj , where j < i. This way the method, also called classifier chains (CC), can take into account label correlations."
      ]
    },
    {
      "cell_type": "code",
      "metadata": {
        "id": "oDjb44B32ymz",
        "colab_type": "code",
        "colab": {
          "base_uri": "https://localhost:8080/",
          "height": 177
        },
        "outputId": "4a9b67cf-e153-452c-830f-95fe98051c86"
      },
      "source": [
        "# using classifier chains\n",
        "from skmultilearn.problem_transform import ClassifierChain\n",
        "from sklearn.linear_model import LogisticRegression\n",
        "# initialize classifier chains multi-label classifier\n",
        "classifier3 = ClassifierChain(LogisticRegression())\n",
        "# Training logistic regression model on train data\n",
        "classifier3.fit(X_train, y_train)\n",
        "# predict\n",
        "predictions = classifier3.predict(X_test)\n",
        "ndarray = np.ndarray(shape=(9561,1),dtype = float)\n",
        "predictions.toarray(out=ndarray)\n",
        "print(\"Accuracy = \",accuracy_score(y_test,ndarray[: , 0]))"
      ],
      "execution_count": 59,
      "outputs": [
        {
          "output_type": "stream",
          "text": [
            "Accuracy =  0.4453509047170798\n"
          ],
          "name": "stdout"
        },
        {
          "output_type": "stream",
          "text": [
            "/usr/local/lib/python3.6/dist-packages/sklearn/linear_model/_logistic.py:940: ConvergenceWarning: lbfgs failed to converge (status=1):\n",
            "STOP: TOTAL NO. of ITERATIONS REACHED LIMIT.\n",
            "\n",
            "Increase the number of iterations (max_iter) or scale the data as shown in:\n",
            "    https://scikit-learn.org/stable/modules/preprocessing.html\n",
            "Please also refer to the documentation for alternative solver options:\n",
            "    https://scikit-learn.org/stable/modules/linear_model.html#logistic-regression\n",
            "  extra_warning_msg=_LOGISTIC_SOLVER_CONVERGENCE_MSG)\n"
          ],
          "name": "stderr"
        }
      ]
    },
    {
      "cell_type": "code",
      "metadata": {
        "id": "oDelcCi_2yiL",
        "colab_type": "code",
        "colab": {
          "base_uri": "https://localhost:8080/",
          "height": 52
        },
        "outputId": "2f3f831c-de3b-4b8d-8d48-d2ca0f940e64"
      },
      "source": [
        "predictions"
      ],
      "execution_count": 57,
      "outputs": [
        {
          "output_type": "execute_result",
          "data": {
            "text/plain": [
              "<9561x1 sparse matrix of type '<class 'numpy.float64'>'\n",
              "\twith 6918 stored elements in Compressed Sparse Column format>"
            ]
          },
          "metadata": {
            "tags": []
          },
          "execution_count": 57
        }
      ]
    },
    {
      "cell_type": "code",
      "metadata": {
        "id": "1oeiKPek2yfi",
        "colab_type": "code",
        "colab": {
          "base_uri": "https://localhost:8080/",
          "height": 177
        },
        "outputId": "e32c1da9-0eb2-4829-cda0-22638de7babe"
      },
      "source": [
        "# using Label Powerset\n",
        "from skmultilearn.problem_transform import LabelPowerset\n",
        "# initialize label powerset multi-label classifier\n",
        "classifier4 = LabelPowerset(LogisticRegression())\n",
        "# train\n",
        "classifier4.fit(X_train, y_train)\n",
        "# predict\n",
        "predictions4 = classifier.predict(X_test)\n",
        "# accuracy\n",
        "ndarray = np.ndarray(shape=(9561,1),dtype = int)\n",
        "predictions4.toarray(out=ndarray)\n",
        "print(\"Accuracy = \",accuracy_score(y_test,ndarray[: , 0]))\n",
        "\n",
        "\n"
      ],
      "execution_count": 72,
      "outputs": [
        {
          "output_type": "stream",
          "text": [
            "Accuracy =  0.489070180943416\n"
          ],
          "name": "stdout"
        },
        {
          "output_type": "stream",
          "text": [
            "/usr/local/lib/python3.6/dist-packages/sklearn/linear_model/_logistic.py:940: ConvergenceWarning: lbfgs failed to converge (status=1):\n",
            "STOP: TOTAL NO. of ITERATIONS REACHED LIMIT.\n",
            "\n",
            "Increase the number of iterations (max_iter) or scale the data as shown in:\n",
            "    https://scikit-learn.org/stable/modules/preprocessing.html\n",
            "Please also refer to the documentation for alternative solver options:\n",
            "    https://scikit-learn.org/stable/modules/linear_model.html#logistic-regression\n",
            "  extra_warning_msg=_LOGISTIC_SOLVER_CONVERGENCE_MSG)\n"
          ],
          "name": "stderr"
        }
      ]
    },
    {
      "cell_type": "code",
      "metadata": {
        "id": "NQ4l68UZHOxH",
        "colab_type": "code",
        "colab": {
          "base_uri": "https://localhost:8080/",
          "height": 177
        },
        "outputId": "f1e8ed53-478f-4dc0-fef8-6a6eb409b3d9"
      },
      "source": [
        "from sklearn.metrics import confusion_matrix\n",
        "cm_labelpower = confusion_matrix(y_test, ndarray[: , 0])\n",
        "cm_labelpower"
      ],
      "execution_count": 73,
      "outputs": [
        {
          "output_type": "execute_result",
          "data": {
            "text/plain": [
              "array([[2031,   11,   13,   48,    1,    7,  398,    3,   95],\n",
              "       [ 301,    3,   11,   39,    0,    2,   82,    1,  143],\n",
              "       [   0,    0,   31,    2,    0,    0,    1,    0,    0],\n",
              "       [  60,    1,  340,  221,    0,    3,   85,    0,   79],\n",
              "       [ 339,    1,    1,   26,    0,    1,   77,    0,  112],\n",
              "       [ 281,    0,    4,   20,    0,    4,   95,    3,  117],\n",
              "       [ 397,    2,    4,   42,    1,    5, 1423,    0,   54],\n",
              "       [ 264,    1,    2,   13,    0,    1,   80,    0,  112],\n",
              "       [ 602,    3,   18,  157,    0,    8,  314,    2,  963]])"
            ]
          },
          "metadata": {
            "tags": []
          },
          "execution_count": 73
        }
      ]
    },
    {
      "cell_type": "markdown",
      "metadata": {
        "id": "b-cGBVk9wesX",
        "colab_type": "text"
      },
      "source": [
        "# Prediction and output file generation"
      ]
    },
    {
      "cell_type": "markdown",
      "metadata": {
        "id": "flLusBg8ww03",
        "colab_type": "text"
      },
      "source": [
        "We will be using binary relevance classifier to predict outcome type \n"
      ]
    },
    {
      "cell_type": "code",
      "metadata": {
        "id": "VpmUWHT_UT9B",
        "colab_type": "code",
        "colab": {}
      },
      "source": [
        "test_dataset = pd.read_excel('edited master test.xlsx')\n",
        "X_test1 = test_dataset.iloc[:, [1,4,5,6,7,9,11,13]].values"
      ],
      "execution_count": 0,
      "outputs": []
    },
    {
      "cell_type": "code",
      "metadata": {
        "colab_type": "code",
        "outputId": "956291cb-f572-4ada-a09a-7b55c97e7aad",
        "id": "UCALq1NcVMV5",
        "colab": {
          "base_uri": "https://localhost:8080/",
          "height": 35
        }
      },
      "source": [
        "len(test_dataset)"
      ],
      "execution_count": 75,
      "outputs": [
        {
          "output_type": "execute_result",
          "data": {
            "text/plain": [
              "31869"
            ]
          },
          "metadata": {
            "tags": []
          },
          "execution_count": 75
        }
      ]
    },
    {
      "cell_type": "code",
      "metadata": {
        "colab_type": "code",
        "outputId": "1d22f5cf-6f44-40d1-9a0a-917433e3b6b4",
        "id": "haVS0ExJVMWC",
        "colab": {
          "base_uri": "https://localhost:8080/",
          "height": 52
        }
      },
      "source": [
        "X_test1[2,:]"
      ],
      "execution_count": 76,
      "outputs": [
        {
          "output_type": "execute_result",
          "data": {
            "text/plain": [
              "array(['Cat', 'Nursing', 'Stray', 'Intact Male', 0.076712329, 1,\n",
              "       'Neutered Male', 60.52013889], dtype=object)"
            ]
          },
          "metadata": {
            "tags": []
          },
          "execution_count": 76
        }
      ]
    },
    {
      "cell_type": "code",
      "metadata": {
        "colab_type": "code",
        "id": "UD0VFNK5VMWI",
        "colab": {}
      },
      "source": [
        "ct_test = ColumnTransformer([(\"encoding\", OneHotEncoder(), [0,1,2,3,6])], remainder = 'passthrough')\n",
        "X_test1 = ct_test.fit_transform(X_test1)"
      ],
      "execution_count": 0,
      "outputs": []
    },
    {
      "cell_type": "code",
      "metadata": {
        "id": "AROxp6y7UT2b",
        "colab_type": "code",
        "outputId": "e1c1f0f4-7e99-4691-dfd0-e2948738b4d1",
        "colab": {
          "base_uri": "https://localhost:8080/",
          "height": 52
        }
      },
      "source": [
        "X_test1[2,:]"
      ],
      "execution_count": 78,
      "outputs": [
        {
          "output_type": "execute_result",
          "data": {
            "text/plain": [
              "<1x30 sparse matrix of type '<class 'numpy.float64'>'\n",
              "\twith 8 stored elements in Compressed Sparse Row format>"
            ]
          },
          "metadata": {
            "tags": []
          },
          "execution_count": 78
        }
      ]
    },
    {
      "cell_type": "code",
      "metadata": {
        "id": "_A5jt6B5UTy7",
        "colab_type": "code",
        "colab": {}
      },
      "source": [
        ""
      ],
      "execution_count": 0,
      "outputs": []
    },
    {
      "cell_type": "code",
      "metadata": {
        "colab_type": "code",
        "id": "c1nAlSccWwSS",
        "colab": {}
      },
      "source": [
        "y_pred1 = classifier2.predict(X_test1)\n"
      ],
      "execution_count": 0,
      "outputs": []
    },
    {
      "cell_type": "code",
      "metadata": {
        "id": "YEnoUMa1JKvn",
        "colab_type": "code",
        "colab": {
          "base_uri": "https://localhost:8080/",
          "height": 52
        },
        "outputId": "133fb9a7-5bd8-4e6a-c168-1522a8c02833"
      },
      "source": [
        "y_pred1"
      ],
      "execution_count": 81,
      "outputs": [
        {
          "output_type": "execute_result",
          "data": {
            "text/plain": [
              "<31869x1 sparse matrix of type '<class 'numpy.int64'>'\n",
              "\twith 16384 stored elements in Compressed Sparse Column format>"
            ]
          },
          "metadata": {
            "tags": []
          },
          "execution_count": 81
        }
      ]
    },
    {
      "cell_type": "code",
      "metadata": {
        "colab_type": "code",
        "outputId": "a5e638a0-ca41-49df-fbe2-7a707ec72f54",
        "id": "87BB82WbWwSd",
        "colab": {
          "base_uri": "https://localhost:8080/",
          "height": 141
        }
      },
      "source": [
        "ndarray = np.ndarray(shape=(31869,1),dtype = int)\n",
        "y_pred1.toarray(out=ndarray)"
      ],
      "execution_count": 82,
      "outputs": [
        {
          "output_type": "execute_result",
          "data": {
            "text/plain": [
              "array([[8],\n",
              "       [8],\n",
              "       [8],\n",
              "       ...,\n",
              "       [2],\n",
              "       [6],\n",
              "       [6]])"
            ]
          },
          "metadata": {
            "tags": []
          },
          "execution_count": 82
        }
      ]
    },
    {
      "cell_type": "code",
      "metadata": {
        "id": "f5_Jm4xfJTb4",
        "colab_type": "code",
        "colab": {}
      },
      "source": [
        "y_pred1=ndarray[: , 0]"
      ],
      "execution_count": 0,
      "outputs": []
    },
    {
      "cell_type": "code",
      "metadata": {
        "id": "Xqw9Yb_WJeg2",
        "colab_type": "code",
        "colab": {
          "base_uri": "https://localhost:8080/",
          "height": 35
        },
        "outputId": "bbeec815-e374-417e-e910-2b6ca3a23ad0"
      },
      "source": [
        "y_pred1"
      ],
      "execution_count": 85,
      "outputs": [
        {
          "output_type": "execute_result",
          "data": {
            "text/plain": [
              "array([8, 8, 8, ..., 2, 6, 6])"
            ]
          },
          "metadata": {
            "tags": []
          },
          "execution_count": 85
        }
      ]
    },
    {
      "cell_type": "code",
      "metadata": {
        "colab_type": "code",
        "id": "EpKw1pluWwSh",
        "colab": {}
      },
      "source": [
        "y_pred1 = labelcoder_y.inverse_transform(y_pred1)"
      ],
      "execution_count": 0,
      "outputs": []
    },
    {
      "cell_type": "code",
      "metadata": {
        "colab_type": "code",
        "outputId": "29fc9663-86f9-41f8-986e-4608c4db90af",
        "id": "aQpnSKhSWwSl",
        "colab": {
          "base_uri": "https://localhost:8080/",
          "height": 52
        }
      },
      "source": [
        "y_pred1"
      ],
      "execution_count": 87,
      "outputs": [
        {
          "output_type": "execute_result",
          "data": {
            "text/plain": [
              "array(['Transfer', 'Transfer', 'Transfer', ..., 'Disposal',\n",
              "       'Return to Owner', 'Return to Owner'], dtype=object)"
            ]
          },
          "metadata": {
            "tags": []
          },
          "execution_count": 87
        }
      ]
    },
    {
      "cell_type": "code",
      "metadata": {
        "colab_type": "code",
        "id": "f1-urrwOWwSr",
        "colab": {}
      },
      "source": [
        "output_file = test_dataset"
      ],
      "execution_count": 0,
      "outputs": []
    },
    {
      "cell_type": "code",
      "metadata": {
        "colab_type": "code",
        "id": "Y5Zc8ti1WwSv",
        "colab": {}
      },
      "source": [
        "output_file['outcome_type'] = y_pred1 "
      ],
      "execution_count": 0,
      "outputs": []
    },
    {
      "cell_type": "code",
      "metadata": {
        "colab_type": "code",
        "outputId": "ddf16c5d-ece0-4c61-dbd0-bd72db78ce45",
        "id": "OQFioNj2WwSz",
        "colab": {
          "base_uri": "https://localhost:8080/",
          "height": 230
        }
      },
      "source": [
        "output_file['outcome_type']"
      ],
      "execution_count": 90,
      "outputs": [
        {
          "output_type": "execute_result",
          "data": {
            "text/plain": [
              "0               Transfer\n",
              "1               Transfer\n",
              "2               Transfer\n",
              "3               Transfer\n",
              "4               Transfer\n",
              "              ...       \n",
              "31864           Transfer\n",
              "31865           Disposal\n",
              "31866           Disposal\n",
              "31867    Return to Owner\n",
              "31868    Return to Owner\n",
              "Name: outcome_type, Length: 31869, dtype: object"
            ]
          },
          "metadata": {
            "tags": []
          },
          "execution_count": 90
        }
      ]
    },
    {
      "cell_type": "code",
      "metadata": {
        "id": "dtEkQX3ZUTvM",
        "colab_type": "code",
        "colab": {}
      },
      "source": [
        "#output_file"
      ],
      "execution_count": 0,
      "outputs": []
    },
    {
      "cell_type": "code",
      "metadata": {
        "id": "X_MuxlwfUTrW",
        "colab_type": "code",
        "colab": {}
      },
      "source": [
        "output_file_final = output_file[['animal_id_outcome','outcome_type']]"
      ],
      "execution_count": 0,
      "outputs": []
    },
    {
      "cell_type": "code",
      "metadata": {
        "id": "POh9oND2UToT",
        "colab_type": "code",
        "colab": {}
      },
      "source": [
        "output_file_final.to_csv('output_file_binaryrel.csv',index=False)"
      ],
      "execution_count": 0,
      "outputs": []
    }
  ]
}