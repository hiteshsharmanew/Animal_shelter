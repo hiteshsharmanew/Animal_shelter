{
  "nbformat": 4,
  "nbformat_minor": 0,
  "metadata": {
    "colab": {
      "name": "Xgboost(SMOTE,gridsearch).ipynb",
      "provenance": [],
      "collapsed_sections": []
    },
    "kernelspec": {
      "name": "python3",
      "display_name": "Python 3"
    }
  },
  "cells": [
    {
      "cell_type": "markdown",
      "metadata": {
        "id": "fwJcKZIwyGBO",
        "colab_type": "text"
      },
      "source": [
        "Loading and clearing the dataset"
      ]
    },
    {
      "cell_type": "code",
      "metadata": {
        "id": "pUqQWdfhYkan",
        "colab_type": "code",
        "colab": {}
      },
      "source": [
        "import numpy as np\n",
        "import matplotlib.pyplot as plt\n",
        "import pandas as pd\n",
        "\n",
        "# Importing the dataset\n",
        "dataset = pd.read_excel('edited master copy.xlsx')\n",
        "dataset = dataset[dataset['sex_upon_intake'].notna()]\n",
        "\n",
        "\n",
        "##taking intake age and intake number\n",
        "X = dataset.iloc[:, [1,4,5,6,7,9,11,13]].values\n",
        "y = dataset.iloc[:, 14].values\n",
        "\n",
        "\n",
        "# Feature Scaling\n",
        "#from sklearn.preprocessing import StandardScaler\n",
        "#sc = StandardScaler()\n",
        "#X_train = sc.fit_transform(X_train)\n",
        "#X_test = sc.transform(X_test)\n",
        "\n",
        "\n",
        "\n",
        "\n",
        "\n",
        "\n"
      ],
      "execution_count": 0,
      "outputs": []
    },
    {
      "cell_type": "code",
      "metadata": {
        "id": "gE005zC-a2VL",
        "colab_type": "code",
        "outputId": "2890f9a5-00a8-4418-c17f-e2981cb04fc7",
        "colab": {
          "base_uri": "https://localhost:8080/",
          "height": 35
        }
      },
      "source": [
        "\n",
        "\n",
        "len(dataset)"
      ],
      "execution_count": 59,
      "outputs": [
        {
          "output_type": "execute_result",
          "data": {
            "text/plain": [
              "47802"
            ]
          },
          "metadata": {
            "tags": []
          },
          "execution_count": 59
        }
      ]
    },
    {
      "cell_type": "markdown",
      "metadata": {
        "id": "5Sho5BKLyUBe",
        "colab_type": "text"
      },
      "source": [
        "Since most of the features provided are categorical in nature , one hot coding, label encoding has been performed on the respective cols"
      ]
    },
    {
      "cell_type": "code",
      "metadata": {
        "id": "_sNl2rUCa732",
        "colab_type": "code",
        "colab": {}
      },
      "source": [
        "from sklearn.preprocessing import LabelEncoder , OneHotEncoder\n",
        "from sklearn.compose import ColumnTransformer\n",
        "labelcoder_y = LabelEncoder()\n",
        "y = labelcoder_y.fit_transform(y)\n",
        "\n",
        "\n",
        "\n",
        "\n",
        "\n",
        "\n"
      ],
      "execution_count": 0,
      "outputs": []
    },
    {
      "cell_type": "code",
      "metadata": {
        "id": "hEops4-1bHZR",
        "colab_type": "code",
        "outputId": "93b3c235-cd0c-4ac1-b4ec-8caed1e279b7",
        "colab": {
          "base_uri": "https://localhost:8080/",
          "height": 35
        }
      },
      "source": [
        "y"
      ],
      "execution_count": 61,
      "outputs": [
        {
          "output_type": "execute_result",
          "data": {
            "text/plain": [
              "array([6, 6, 6, ..., 6, 0, 3])"
            ]
          },
          "metadata": {
            "tags": []
          },
          "execution_count": 61
        }
      ]
    },
    {
      "cell_type": "code",
      "metadata": {
        "id": "1tvTPzcZFRod",
        "colab_type": "code",
        "outputId": "6554c528-7095-44e5-83ef-336949b5edaf",
        "colab": {
          "base_uri": "https://localhost:8080/",
          "height": 35
        }
      },
      "source": [
        "le_name_mapping = dict(zip(labelcoder_y.classes_, labelcoder_y.transform(labelcoder_y.classes_)))\n",
        "print(le_name_mapping)"
      ],
      "execution_count": 62,
      "outputs": [
        {
          "output_type": "stream",
          "text": [
            "{'Adoption': 0, 'Died': 1, 'Disposal': 2, 'Euthanasia': 3, 'Missing': 4, 'Relocate': 5, 'Return to Owner': 6, 'Rto-Adopt': 7, 'Transfer': 8}\n"
          ],
          "name": "stdout"
        }
      ]
    },
    {
      "cell_type": "code",
      "metadata": {
        "id": "iFlvlpwnEe9n",
        "colab_type": "code",
        "outputId": "91022e21-d547-4a66-c1ba-730ef477a69a",
        "colab": {
          "base_uri": "https://localhost:8080/",
          "height": 35
        }
      },
      "source": [
        "y[0:10]"
      ],
      "execution_count": 63,
      "outputs": [
        {
          "output_type": "execute_result",
          "data": {
            "text/plain": [
              "array([6, 6, 6, 4, 6, 6, 6, 6, 6, 6])"
            ]
          },
          "metadata": {
            "tags": []
          },
          "execution_count": 63
        }
      ]
    },
    {
      "cell_type": "code",
      "metadata": {
        "id": "NiJo7yAZGdO1",
        "colab_type": "code",
        "colab": {}
      },
      "source": [
        ""
      ],
      "execution_count": 0,
      "outputs": []
    },
    {
      "cell_type": "code",
      "metadata": {
        "id": "_a3XAp8GbowK",
        "colab_type": "code",
        "outputId": "78591546-c69c-44f4-cf81-3ed8299b108b",
        "colab": {
          "base_uri": "https://localhost:8080/",
          "height": 52
        }
      },
      "source": [
        "X[100, :]\n"
      ],
      "execution_count": 64,
      "outputs": [
        {
          "output_type": "execute_result",
          "data": {
            "text/plain": [
              "array(['Dog', 'Aged', 'Stray', 'Spayed Female', 14.0, 1, 'Spayed Female',\n",
              "       5112.231944], dtype=object)"
            ]
          },
          "metadata": {
            "tags": []
          },
          "execution_count": 64
        }
      ]
    },
    {
      "cell_type": "code",
      "metadata": {
        "id": "Gcjdh1QzYpmQ",
        "colab_type": "code",
        "colab": {}
      },
      "source": [
        "ct = ColumnTransformer([(\"encoding\", OneHotEncoder(), [0,1,2,3,6])], remainder = 'passthrough')\n",
        "X = ct.fit_transform(X)"
      ],
      "execution_count": 0,
      "outputs": []
    },
    {
      "cell_type": "code",
      "metadata": {
        "id": "vDuMwTIQYppW",
        "colab_type": "code",
        "outputId": "91e3a63a-e9c0-4004-e55a-565a0b70ef8d",
        "colab": {
          "base_uri": "https://localhost:8080/",
          "height": 52
        }
      },
      "source": [
        "X[100, :]"
      ],
      "execution_count": 66,
      "outputs": [
        {
          "output_type": "execute_result",
          "data": {
            "text/plain": [
              "<1x30 sparse matrix of type '<class 'numpy.float64'>'\n",
              "\twith 8 stored elements in Compressed Sparse Row format>"
            ]
          },
          "metadata": {
            "tags": []
          },
          "execution_count": 66
        }
      ]
    },
    {
      "cell_type": "code",
      "metadata": {
        "id": "GgzrjVTaYm5f",
        "colab_type": "code",
        "colab": {}
      },
      "source": [
        ""
      ],
      "execution_count": 0,
      "outputs": []
    },
    {
      "cell_type": "markdown",
      "metadata": {
        "id": "KPY6F6Pyyp0X",
        "colab_type": "text"
      },
      "source": [
        " Splitting the dataset into the Training set and Test set"
      ]
    },
    {
      "cell_type": "code",
      "metadata": {
        "id": "bLSPx8uVa7Dq",
        "colab_type": "code",
        "colab": {}
      },
      "source": [
        "\n",
        "#from sklearn.cross_validation import train_test_split\n",
        "\n",
        "from sklearn.model_selection import train_test_split\n",
        "X_train, X_test, y_train, y_test = train_test_split(X, y, test_size = 0.20, random_state = 0)"
      ],
      "execution_count": 0,
      "outputs": []
    },
    {
      "cell_type": "code",
      "metadata": {
        "id": "FFMgp_Rir9Wi",
        "colab_type": "code",
        "colab": {
          "base_uri": "https://localhost:8080/",
          "height": 52
        },
        "outputId": "a7398331-22f8-4b35-836c-baa83c79cf23"
      },
      "source": [
        "X_train"
      ],
      "execution_count": 68,
      "outputs": [
        {
          "output_type": "execute_result",
          "data": {
            "text/plain": [
              "<38241x30 sparse matrix of type '<class 'numpy.float64'>'\n",
              "\twith 305750 stored elements in Compressed Sparse Row format>"
            ]
          },
          "metadata": {
            "tags": []
          },
          "execution_count": 68
        }
      ]
    },
    {
      "cell_type": "code",
      "metadata": {
        "id": "_LUn0tT5r_sc",
        "colab_type": "code",
        "colab": {
          "base_uri": "https://localhost:8080/",
          "height": 35
        },
        "outputId": "1c879c40-4697-4387-c4ee-bf07521e8a2a"
      },
      "source": [
        "y_train"
      ],
      "execution_count": 69,
      "outputs": [
        {
          "output_type": "execute_result",
          "data": {
            "text/plain": [
              "array([5, 0, 1, ..., 0, 7, 0])"
            ]
          },
          "metadata": {
            "tags": []
          },
          "execution_count": 69
        }
      ]
    },
    {
      "cell_type": "markdown",
      "metadata": {
        "id": "ox3dO6Qop8XM",
        "colab_type": "text"
      },
      "source": [
        ""
      ]
    },
    {
      "cell_type": "markdown",
      "metadata": {
        "id": "Sxr9I8kFp8T1",
        "colab_type": "text"
      },
      "source": [
        ""
      ]
    },
    {
      "cell_type": "markdown",
      "metadata": {
        "id": "i1IkuHMtp8Qz",
        "colab_type": "text"
      },
      "source": [
        ""
      ]
    },
    {
      "cell_type": "markdown",
      "metadata": {
        "id": "f9HCkbaEy3Rg",
        "colab_type": "text"
      },
      "source": [
        ""
      ]
    },
    {
      "cell_type": "code",
      "metadata": {
        "id": "9KEJOUGIp-Kp",
        "colab_type": "code",
        "colab": {
          "base_uri": "https://localhost:8080/",
          "height": 141
        },
        "outputId": "8ac0bf99-0193-4b9d-aab6-825ea816d7c7"
      },
      "source": [
        "from xgboost import XGBClassifier\n",
        "classifier1 = XGBClassifier()\n",
        "print(classifier1)\n",
        " \n",
        "# Cross validation scores\n",
        "from sklearn.model_selection import cross_val_score\n",
        "accuracies = cross_val_score(estimator = classifier1, X = X_train, y = y_train, cv = 5)\n",
        "#\n",
        "\n",
        "\n",
        "\n",
        "\n",
        "\n"
      ],
      "execution_count": 73,
      "outputs": [
        {
          "output_type": "stream",
          "text": [
            "XGBClassifier(base_score=0.5, booster='gbtree', colsample_bylevel=1,\n",
            "              colsample_bynode=1, colsample_bytree=1, gamma=0,\n",
            "              learning_rate=0.1, max_delta_step=0, max_depth=3,\n",
            "              min_child_weight=1, missing=None, n_estimators=100, n_jobs=1,\n",
            "              nthread=None, objective='binary:logistic', random_state=0,\n",
            "              reg_alpha=0, reg_lambda=1, scale_pos_weight=1, seed=None,\n",
            "              silent=None, subsample=1, verbosity=1)\n"
          ],
          "name": "stdout"
        }
      ]
    },
    {
      "cell_type": "code",
      "metadata": {
        "id": "5tUejTWrqvs0",
        "colab_type": "code",
        "colab": {
          "base_uri": "https://localhost:8080/",
          "height": 35
        },
        "outputId": "6b127b62-8688-4b16-ca92-8d3d9cb305aa"
      },
      "source": [
        "print(\"accuracies = \",accuracies,\" Mean accuracies score = \",np.mean(accuracies))"
      ],
      "execution_count": 74,
      "outputs": [
        {
          "output_type": "stream",
          "text": [
            "accuracies =  [0.57432344 0.56289226 0.57479079 0.57204498 0.57583682]  Mean accuracies score =  0.5719776589058323\n"
          ],
          "name": "stdout"
        }
      ]
    },
    {
      "cell_type": "code",
      "metadata": {
        "id": "iUpr9JIrqz-o",
        "colab_type": "code",
        "colab": {
          "base_uri": "https://localhost:8080/",
          "height": 52
        },
        "outputId": "e324aa58-a950-4217-c340-f83acec27ed1"
      },
      "source": [
        "from sklearn.model_selection import GridSearchCV, train_test_split,cross_val_score\n",
        "# Create parameters to search\n",
        "params = {\n",
        "     'learning_rate': [0.01],\n",
        "     'n_estimators': [900,1000,1100],\n",
        "     'max_depth':[7,8,9],\n",
        "     'reg_alpha':[0.3,0.4,0.5]\n",
        "    }\n",
        " \n",
        "# Initializing the XGBoost Regressor\n",
        "xgb_model = XGBClassifier()\n",
        " \n",
        "# Gridsearch initializaation\n",
        "gsearch = GridSearchCV(xgb_model, params,\n",
        "                    verbose=True,\n",
        "                    cv=5,\n",
        "                    n_jobs=2)\n",
        " \n",
        "gsearch.fit(X_train, y_train)\n",
        " \n",
        "#Printing the best chosen params\n",
        "print(\"Best Parameters :\",gsearch.best_params_)\n",
        " \n",
        "params = {'objective':'binary:logistic', 'booster':'gbtree'}\n",
        " \n",
        "# Updating the parameter as per grid search\n",
        "params.update(gsearch.best_params_)\n",
        " \n",
        "# Initializing the XGBoost Regressor\n",
        "xgb_model = xgb.XGBClassifier(**params)\n",
        "print(xgb_model)\n",
        " \n",
        "# Cross validation scores\n",
        "# Cross validation scores\n",
        "from sklearn.model_selection import cross_val_score\n",
        "accuracies = cross_val_score(estimator = classifier1, X = X_train, y = y_train, cv = 5)\n",
        "print(\"accuracies = \",accuracies,\" Mean accuracies score = \",np.mean(accuracies))\n",
        " \n"
      ],
      "execution_count": 0,
      "outputs": [
        {
          "output_type": "stream",
          "text": [
            "Fitting 5 folds for each of 27 candidates, totalling 135 fits\n"
          ],
          "name": "stdout"
        },
        {
          "output_type": "stream",
          "text": [
            "[Parallel(n_jobs=2)]: Using backend LokyBackend with 2 concurrent workers.\n"
          ],
          "name": "stderr"
        }
      ]
    },
    {
      "cell_type": "code",
      "metadata": {
        "id": "m-XdYxWtrgxf",
        "colab_type": "code",
        "colab": {}
      },
      "source": [
        "# Fitting model on tuned parameters\n",
        "xgb_model.fit(X_train, y_train)"
      ],
      "execution_count": 0,
      "outputs": []
    },
    {
      "cell_type": "code",
      "metadata": {
        "id": "ODnNJaGcsGNe",
        "colab_type": "code",
        "colab": {}
      },
      "source": [
        ""
      ],
      "execution_count": 0,
      "outputs": []
    },
    {
      "cell_type": "code",
      "metadata": {
        "id": "Hdv3FwYXnw6s",
        "colab_type": "code",
        "colab": {}
      },
      "source": [
        "classifier1.fit(X_train, y_train)"
      ],
      "execution_count": 0,
      "outputs": []
    },
    {
      "cell_type": "code",
      "metadata": {
        "colab_type": "code",
        "id": "FanrkgE-rYlc",
        "colab": {}
      },
      "source": [
        "y_pred = classifier1.predict(X_test)"
      ],
      "execution_count": 0,
      "outputs": []
    },
    {
      "cell_type": "code",
      "metadata": {
        "colab_type": "code",
        "outputId": "5d795f59-71c3-434f-9c74-8d47a569f4a1",
        "id": "3yH1JL-erYlg",
        "colab": {
          "base_uri": "https://localhost:8080/",
          "height": 177
        }
      },
      "source": [
        "from sklearn.metrics import confusion_matrix\n",
        "cm_xgboost = confusion_matrix(y_test, y_pred)\n",
        "cm_xgboost\n"
      ],
      "execution_count": 15,
      "outputs": [
        {
          "output_type": "execute_result",
          "data": {
            "text/plain": [
              "array([[2203,    0,    0,   17,    0,    0,  312,    0,   75],\n",
              "       [ 318,    0,    0,   28,    0,    0,   66,    0,  170],\n",
              "       [   0,    0,    7,   26,    0,    0,    1,    0,    0],\n",
              "       [  62,    1,    1,  516,    0,    0,   82,    0,  127],\n",
              "       [ 348,    1,    0,    8,    0,    0,   67,    0,  133],\n",
              "       [ 298,    0,    0,    7,    0,    0,   80,    0,  139],\n",
              "       [ 271,    0,    0,   25,    0,    0, 1588,    0,   44],\n",
              "       [ 282,    0,    0,    7,    0,    0,   64,    0,  120],\n",
              "       [ 612,    1,    0,   51,    0,    0,  236,    0, 1167]])"
            ]
          },
          "metadata": {
            "tags": []
          },
          "execution_count": 15
        }
      ]
    },
    {
      "cell_type": "code",
      "metadata": {
        "colab_type": "code",
        "outputId": "608b95c7-9bd1-4afd-b2f7-759b0e44e77e",
        "id": "XT_3c9NArYlj",
        "colab": {
          "base_uri": "https://localhost:8080/",
          "height": 35
        }
      },
      "source": [
        "from sklearn.model_selection import cross_val_score\n",
        "accuracies = cross_val_score(estimator = classifier1, X = X_train, y = y_train, cv = 5)\n",
        "accuracies.mean()\n"
      ],
      "execution_count": 16,
      "outputs": [
        {
          "output_type": "execute_result",
          "data": {
            "text/plain": [
              "0.5719776589058323"
            ]
          },
          "metadata": {
            "tags": []
          },
          "execution_count": 16
        }
      ]
    },
    {
      "cell_type": "markdown",
      "metadata": {
        "id": "rEsptBbs0YzI",
        "colab_type": "text"
      },
      "source": [
        "Over sampling of minority classes can help to create a better classifier . In the next section both oversampling and undersampling has been tried through a pipeline\n"
      ]
    },
    {
      "cell_type": "code",
      "metadata": {
        "id": "Pq04H_ixI3D0",
        "colab_type": "code",
        "outputId": "88abe5fc-7c65-4b8b-cf81-84770129f91a",
        "colab": {
          "base_uri": "https://localhost:8080/",
          "height": 319
        }
      },
      "source": [
        "print(\"Before OverSampling, counts of label '0': {}\".format(sum(y_train == 0))) \n",
        "print(\"Before OverSampling, counts of label '1': {} \\n\".format(sum(y_train == 1))) \n",
        "print(\"Before OverSampling, counts of label '2': {} \\n\".format(sum(y_train == 2))) \n",
        "print(\"Before OverSampling, counts of label '3': {} \\n\".format(sum(y_train == 3))) \n",
        "print(\"Before OverSampling, counts of label '4': {} \\n\".format(sum(y_train == 4))) \n",
        "print(\"Before OverSampling, counts of label '5': {} \\n\".format(sum(y_train == 5))) \n",
        "print(\"Before OverSampling, counts of label '6': {} \\n\".format(sum(y_train == 6))) \n",
        "print(\"Before OverSampling, counts of label '7': {} \\n\".format(sum(y_train == 7))) \n",
        "print(\"Before OverSampling, counts of label '8': {} \\n\".format(sum(y_train == 8))) \n",
        "\n",
        "\n",
        "\n",
        "\n",
        "\n",
        "\n",
        "\n"
      ],
      "execution_count": 17,
      "outputs": [
        {
          "output_type": "stream",
          "text": [
            "Before OverSampling, counts of label '0': 10360\n",
            "Before OverSampling, counts of label '1': 2247 \n",
            "\n",
            "Before OverSampling, counts of label '2': 144 \n",
            "\n",
            "Before OverSampling, counts of label '3': 3355 \n",
            "\n",
            "Before OverSampling, counts of label '4': 2042 \n",
            "\n",
            "Before OverSampling, counts of label '5': 2049 \n",
            "\n",
            "Before OverSampling, counts of label '6': 7789 \n",
            "\n",
            "Before OverSampling, counts of label '7': 1977 \n",
            "\n",
            "Before OverSampling, counts of label '8': 8278 \n",
            "\n"
          ],
          "name": "stdout"
        }
      ]
    },
    {
      "cell_type": "code",
      "metadata": {
        "id": "EneARmJ-FNNk",
        "colab_type": "code",
        "outputId": "d721c2cf-aa07-4d0f-d05d-205beaed8f9b",
        "colab": {
          "base_uri": "https://localhost:8080/",
          "height": 72
        }
      },
      "source": [
        "###oversampling using SMOTE\n",
        "from imblearn.over_sampling import SMOTE\n",
        "#dict1 = {2:2000 , 4:4000 , 5:4000 , 7:4000 }\n",
        "smote = SMOTE(sampling_strategy='minority')\n",
        "#smote = SMOTE(sampling_strategy=dict1)\n",
        "X_sm, y_sm = smote.fit_sample(X_train, y_train)"
      ],
      "execution_count": 47,
      "outputs": [
        {
          "output_type": "stream",
          "text": [
            "/usr/local/lib/python3.6/dist-packages/sklearn/utils/deprecation.py:87: FutureWarning: Function safe_indexing is deprecated; safe_indexing is deprecated in version 0.22 and will be removed in version 0.24.\n",
            "  warnings.warn(msg, category=FutureWarning)\n"
          ],
          "name": "stderr"
        }
      ]
    },
    {
      "cell_type": "code",
      "metadata": {
        "id": "qCf2IoKlzd95",
        "colab_type": "code",
        "colab": {}
      },
      "source": [
        "from imblearn.under_sampling import RandomUnderSampler\n"
      ],
      "execution_count": 0,
      "outputs": []
    },
    {
      "cell_type": "code",
      "metadata": {
        "id": "G74evDuGFneT",
        "colab_type": "code",
        "outputId": "005242bc-5f0e-47b7-cf5a-274f86946a2a",
        "colab": {
          "base_uri": "https://localhost:8080/",
          "height": 35
        }
      },
      "source": [
        "X_sm.shape"
      ],
      "execution_count": 48,
      "outputs": [
        {
          "output_type": "execute_result",
          "data": {
            "text/plain": [
              "(46029, 30)"
            ]
          },
          "metadata": {
            "tags": []
          },
          "execution_count": 48
        }
      ]
    },
    {
      "cell_type": "code",
      "metadata": {
        "id": "8CWhSazZNgT5",
        "colab_type": "code",
        "outputId": "9041202d-e5a7-4c9c-cdef-d04e9d1beeb8",
        "colab": {
          "base_uri": "https://localhost:8080/",
          "height": 177
        }
      },
      "source": [
        "print(\"After OverSampling, counts of label '0': {}\".format(sum(y_sm == 0))) \n",
        "print(\"After OverSampling, counts of label '1': {}\".format(sum(y_sm == 1))) \n",
        "print(\"After OverSampling, counts of label '2': {}\".format(sum(y_sm == 2))) \n",
        "print(\"After OverSampling, counts of label '3': {}\".format(sum(y_sm == 3))) \n",
        "print(\"After OverSampling, counts of label '4': {}\".format(sum(y_sm == 4))) \n",
        "print(\"After OverSampling, counts of label '5': {}\".format(sum(y_sm == 5))) \n",
        "print(\"After OverSampling, counts of label '6': {}\".format(sum(y_sm == 6))) \n",
        "print(\"After OverSampling, counts of label '7': {}\".format(sum(y_sm == 7))) \n",
        "print(\"After OverSampling, counts of label '8': {}\".format(sum(y_sm == 8))) \n",
        "\n",
        "\n"
      ],
      "execution_count": 49,
      "outputs": [
        {
          "output_type": "stream",
          "text": [
            "After OverSampling, counts of label '0': 10360\n",
            "After OverSampling, counts of label '1': 2247\n",
            "After OverSampling, counts of label '2': 2000\n",
            "After OverSampling, counts of label '3': 3355\n",
            "After OverSampling, counts of label '4': 4000\n",
            "After OverSampling, counts of label '5': 4000\n",
            "After OverSampling, counts of label '6': 7789\n",
            "After OverSampling, counts of label '7': 4000\n",
            "After OverSampling, counts of label '8': 8278\n"
          ],
          "name": "stdout"
        }
      ]
    },
    {
      "cell_type": "code",
      "metadata": {
        "id": "TMRcO3oRFxDU",
        "colab_type": "code",
        "outputId": "6c580e88-3306-4baa-92d1-9a7f147f455c",
        "colab": {
          "base_uri": "https://localhost:8080/",
          "height": 141
        }
      },
      "source": [
        "from xgboost import XGBClassifier\n",
        "classifier2 = XGBClassifier()\n",
        "classifier2.fit(X_sm, y_sm)"
      ],
      "execution_count": 50,
      "outputs": [
        {
          "output_type": "execute_result",
          "data": {
            "text/plain": [
              "XGBClassifier(base_score=0.5, booster='gbtree', colsample_bylevel=1,\n",
              "              colsample_bynode=1, colsample_bytree=1, gamma=0,\n",
              "              learning_rate=0.1, max_delta_step=0, max_depth=3,\n",
              "              min_child_weight=1, missing=None, n_estimators=100, n_jobs=1,\n",
              "              nthread=None, objective='multi:softprob', random_state=0,\n",
              "              reg_alpha=0, reg_lambda=1, scale_pos_weight=1, seed=None,\n",
              "              silent=None, subsample=1, verbosity=1)"
            ]
          },
          "metadata": {
            "tags": []
          },
          "execution_count": 50
        }
      ]
    },
    {
      "cell_type": "code",
      "metadata": {
        "id": "Vzjk0IEMFxAg",
        "colab_type": "code",
        "colab": {}
      },
      "source": [
        "y_pred2 = classifier2.predict(X_test)"
      ],
      "execution_count": 0,
      "outputs": []
    },
    {
      "cell_type": "code",
      "metadata": {
        "id": "TnsUfXw7Fw85",
        "colab_type": "code",
        "outputId": "5b32095a-608f-44a2-aced-31f0998324c6",
        "colab": {
          "base_uri": "https://localhost:8080/",
          "height": 177
        }
      },
      "source": [
        "from sklearn.metrics import confusion_matrix\n",
        "cm_xgboost = confusion_matrix(y_test, y_pred2)\n",
        "cm_xgboost\n"
      ],
      "execution_count": 52,
      "outputs": [
        {
          "output_type": "execute_result",
          "data": {
            "text/plain": [
              "array([[2191,    0,    1,   19,    0,    0,  318,    0,   78],\n",
              "       [ 320,    0,    7,   21,    0,    0,   64,    0,  170],\n",
              "       [   0,    0,   20,   13,    0,    0,    1,    0,    0],\n",
              "       [  66,    0,   89,  422,    0,    0,   78,    0,  134],\n",
              "       [ 348,    0,    0,   10,    0,    0,   67,    0,  132],\n",
              "       [ 302,    0,    0,    8,    0,    0,   75,    0,  139],\n",
              "       [ 338,    0,    1,   24,    0,    0, 1501,    0,   64],\n",
              "       [ 282,    0,    0,    7,    0,    0,   64,    0,  120],\n",
              "       [ 624,    0,    1,   71,    0,    0,  222,    0, 1149]])"
            ]
          },
          "metadata": {
            "tags": []
          },
          "execution_count": 52
        }
      ]
    },
    {
      "cell_type": "code",
      "metadata": {
        "id": "5_9zGp3QHygr",
        "colab_type": "code",
        "outputId": "16ba3ecd-a534-4e9b-990e-9c524a302145",
        "colab": {
          "base_uri": "https://localhost:8080/",
          "height": 35
        }
      },
      "source": [
        "from sklearn.model_selection import cross_val_score\n",
        "accuracies = cross_val_score(estimator = classifier2, X = X_sm, y = y_sm, cv = 5)\n",
        "accuracies.mean()\n"
      ],
      "execution_count": 53,
      "outputs": [
        {
          "output_type": "execute_result",
          "data": {
            "text/plain": [
              "0.5187606835539205"
            ]
          },
          "metadata": {
            "tags": []
          },
          "execution_count": 53
        }
      ]
    },
    {
      "cell_type": "markdown",
      "metadata": {
        "id": "SngocifZzw3d",
        "colab_type": "text"
      },
      "source": [
        "A trial with under sampling"
      ]
    },
    {
      "cell_type": "code",
      "metadata": {
        "id": "jdi21bShzv5N",
        "colab_type": "code",
        "colab": {}
      },
      "source": [
        ""
      ],
      "execution_count": 0,
      "outputs": []
    },
    {
      "cell_type": "code",
      "metadata": {
        "id": "2j5_TVT4z0yB",
        "colab_type": "code",
        "colab": {}
      },
      "source": [
        "# decision tree  on imbalanced dataset with SMOTE oversampling and random undersampling\n",
        "from numpy import mean\n",
        "from sklearn.datasets import make_classification\n",
        "from sklearn.model_selection import cross_val_score\n",
        "from sklearn.model_selection import RepeatedStratifiedKFold\n",
        "from sklearn.tree import DecisionTreeClassifier\n",
        "from imblearn.pipeline import Pipeline\n",
        "from imblearn.over_sampling import SMOTE\n",
        "from imblearn.under_sampling import RandomUnderSampler\n"
      ],
      "execution_count": 0,
      "outputs": []
    },
    {
      "cell_type": "code",
      "metadata": {
        "id": "FNKbHsMEz39h",
        "colab_type": "code",
        "colab": {
          "base_uri": "https://localhost:8080/",
          "height": 35
        },
        "outputId": "386a1ab8-d6b4-445f-bc31-93a22ad23a90"
      },
      "source": [
        "# define dataset\n",
        "X_train, y_train = X_train, y_train\n",
        "# define pipeline\n",
        "model = XGBClassifier()\n",
        "over = SMOTE(sampling_strategy='minority')\n",
        "#under = RandomUnderSampler(sampling_strategy='majority')\n",
        "#steps = [('under', under), ('model', model)]\n",
        "steps = [('over', over), ('model', model)]\n",
        "pipeline = Pipeline(steps=steps)\n",
        "# evaluate pipeline\n",
        "cv = RepeatedStratifiedKFold(n_splits=5, n_repeats=3, random_state=1)\n",
        "scores = cross_val_score(pipeline, X_train, y_train, scoring='f1_micro', cv=cv, n_jobs=-1)\n",
        "print('Mean f1_scores: %.3f' % mean(scores))"
      ],
      "execution_count": 57,
      "outputs": [
        {
          "output_type": "stream",
          "text": [
            "Mean f1_scores: 0.415\n"
          ],
          "name": "stdout"
        }
      ]
    },
    {
      "cell_type": "markdown",
      "metadata": {
        "id": "U8ucTrpNI8l2",
        "colab_type": "text"
      },
      "source": [
        "Accuracy has increased to 63.6% when minority was sampled\n",
        "\n"
      ]
    },
    {
      "cell_type": "markdown",
      "metadata": {
        "id": "uSX_zUiD3zij",
        "colab_type": "text"
      },
      "source": [
        "mean f1 score .54 with only minority oversampling"
      ]
    },
    {
      "cell_type": "markdown",
      "metadata": {
        "id": "ztAhvyP3zMYF",
        "colab_type": "text"
      },
      "source": [
        "Decreased further when all smaller samples were over sampled "
      ]
    },
    {
      "cell_type": "markdown",
      "metadata": {
        "id": "r_BV2wSq6a9K",
        "colab_type": "text"
      },
      "source": [
        "After applying both oversampling and then undersampling on majority class and majority class respectively f1 score decreased to .44\n",
        "\n"
      ]
    },
    {
      "cell_type": "markdown",
      "metadata": {
        "id": "PJpNjEG8qVWz",
        "colab_type": "text"
      },
      "source": [
        "#  Output file generation/Prediction"
      ]
    },
    {
      "cell_type": "markdown",
      "metadata": {
        "id": "RbsT_maF1cvW",
        "colab_type": "text"
      },
      "source": [
        "We will be using our trained Xg boost classifier to predict the test data set and generate the output file. "
      ]
    },
    {
      "cell_type": "code",
      "metadata": {
        "id": "f07kpyMh1b_U",
        "colab_type": "code",
        "colab": {}
      },
      "source": [
        ""
      ],
      "execution_count": 0,
      "outputs": []
    },
    {
      "cell_type": "markdown",
      "metadata": {
        "id": "EL25aKqvqVT6",
        "colab_type": "text"
      },
      "source": [
        ""
      ]
    },
    {
      "cell_type": "code",
      "metadata": {
        "id": "VpmUWHT_UT9B",
        "colab_type": "code",
        "colab": {}
      },
      "source": [
        "test_dataset = pd.read_excel('edited master test.xlsx')\n",
        "X_test1 = test_dataset.iloc[:, [1,4,5,6,7,9,11,13]].values"
      ],
      "execution_count": 0,
      "outputs": []
    },
    {
      "cell_type": "code",
      "metadata": {
        "id": "Rbl-0hotUT5U",
        "colab_type": "code",
        "colab": {}
      },
      "source": [
        ""
      ],
      "execution_count": 0,
      "outputs": []
    },
    {
      "cell_type": "code",
      "metadata": {
        "colab_type": "code",
        "outputId": "b70b774b-b17a-4946-e554-6ca20def4985",
        "id": "UCALq1NcVMV5",
        "colab": {
          "base_uri": "https://localhost:8080/",
          "height": 35
        }
      },
      "source": [
        "len(test_dataset)"
      ],
      "execution_count": 0,
      "outputs": [
        {
          "output_type": "execute_result",
          "data": {
            "text/plain": [
              "31869"
            ]
          },
          "metadata": {
            "tags": []
          },
          "execution_count": 30
        }
      ]
    },
    {
      "cell_type": "code",
      "metadata": {
        "colab_type": "code",
        "outputId": "63b73d9d-265b-4aef-b36c-f9cd2b4d5edd",
        "id": "haVS0ExJVMWC",
        "colab": {
          "base_uri": "https://localhost:8080/",
          "height": 52
        }
      },
      "source": [
        "X_test1[2,:]"
      ],
      "execution_count": 0,
      "outputs": [
        {
          "output_type": "execute_result",
          "data": {
            "text/plain": [
              "<1x30 sparse matrix of type '<class 'numpy.float64'>'\n",
              "\twith 8 stored elements in Compressed Sparse Row format>"
            ]
          },
          "metadata": {
            "tags": []
          },
          "execution_count": 132
        }
      ]
    },
    {
      "cell_type": "code",
      "metadata": {
        "colab_type": "code",
        "id": "UD0VFNK5VMWI",
        "colab": {}
      },
      "source": [
        "ct_test = ColumnTransformer([(\"encoding\", OneHotEncoder(), [0,1,2,3,6])], remainder = 'passthrough')\n",
        "X_test1 = ct_test.fit_transform(X_test1)"
      ],
      "execution_count": 0,
      "outputs": []
    },
    {
      "cell_type": "code",
      "metadata": {
        "id": "AROxp6y7UT2b",
        "colab_type": "code",
        "outputId": "f8a7c8ea-2c14-4168-8590-8e253cd30bbf",
        "colab": {
          "base_uri": "https://localhost:8080/",
          "height": 52
        }
      },
      "source": [
        "X_test1[2,:]"
      ],
      "execution_count": 0,
      "outputs": [
        {
          "output_type": "execute_result",
          "data": {
            "text/plain": [
              "<1x30 sparse matrix of type '<class 'numpy.float64'>'\n",
              "\twith 8 stored elements in Compressed Sparse Row format>"
            ]
          },
          "metadata": {
            "tags": []
          },
          "execution_count": 133
        }
      ]
    },
    {
      "cell_type": "code",
      "metadata": {
        "id": "_A5jt6B5UTy7",
        "colab_type": "code",
        "colab": {}
      },
      "source": [
        ""
      ],
      "execution_count": 0,
      "outputs": []
    },
    {
      "cell_type": "code",
      "metadata": {
        "colab_type": "code",
        "id": "c1nAlSccWwSS",
        "colab": {}
      },
      "source": [
        "y_pred1 = classifier2.predict(X_test1)"
      ],
      "execution_count": 0,
      "outputs": []
    },
    {
      "cell_type": "code",
      "metadata": {
        "colab_type": "code",
        "outputId": "67f4e90a-f20d-415b-adc6-ce0a04b9a169",
        "id": "87BB82WbWwSd",
        "colab": {
          "base_uri": "https://localhost:8080/",
          "height": 70
        }
      },
      "source": [
        "y_pred1[0:50]"
      ],
      "execution_count": 0,
      "outputs": [
        {
          "output_type": "execute_result",
          "data": {
            "text/plain": [
              "array([3, 0, 0, 3, 3, 6, 3, 3, 0, 3, 8, 3, 0, 3, 3, 8, 3, 3, 0, 6, 3, 3,\n",
              "       6, 8, 3, 6, 3, 3, 6, 3, 3, 3, 6, 6, 8, 6, 6, 8, 8, 8, 3, 3, 3, 6,\n",
              "       8, 8, 6, 3, 3, 3])"
            ]
          },
          "metadata": {
            "tags": []
          },
          "execution_count": 138
        }
      ]
    },
    {
      "cell_type": "code",
      "metadata": {
        "colab_type": "code",
        "id": "EpKw1pluWwSh",
        "colab": {}
      },
      "source": [
        "y_pred1 = labelcoder_y.inverse_transform(y_pred1)"
      ],
      "execution_count": 0,
      "outputs": []
    },
    {
      "cell_type": "code",
      "metadata": {
        "colab_type": "code",
        "outputId": "60ea0979-a299-48f9-bebc-9345648e4285",
        "id": "aQpnSKhSWwSl",
        "colab": {
          "base_uri": "https://localhost:8080/",
          "height": 52
        }
      },
      "source": [
        "y_pred1"
      ],
      "execution_count": 0,
      "outputs": [
        {
          "output_type": "execute_result",
          "data": {
            "text/plain": [
              "array(['Euthanasia', 'Adoption', 'Adoption', ..., 'Euthanasia',\n",
              "       'Euthanasia', 'Euthanasia'], dtype=object)"
            ]
          },
          "metadata": {
            "tags": []
          },
          "execution_count": 140
        }
      ]
    },
    {
      "cell_type": "code",
      "metadata": {
        "colab_type": "code",
        "id": "f1-urrwOWwSr",
        "colab": {}
      },
      "source": [
        "output_file = test_dataset"
      ],
      "execution_count": 0,
      "outputs": []
    },
    {
      "cell_type": "code",
      "metadata": {
        "colab_type": "code",
        "id": "Y5Zc8ti1WwSv",
        "colab": {}
      },
      "source": [
        "output_file['outcome_type'] = y_pred1 "
      ],
      "execution_count": 0,
      "outputs": []
    },
    {
      "cell_type": "code",
      "metadata": {
        "colab_type": "code",
        "outputId": "fb71af04-d223-4eea-d0af-3ec2b29da926",
        "id": "OQFioNj2WwSz",
        "colab": {
          "base_uri": "https://localhost:8080/",
          "height": 230
        }
      },
      "source": [
        "output_file['outcome_type']"
      ],
      "execution_count": 0,
      "outputs": [
        {
          "output_type": "execute_result",
          "data": {
            "text/plain": [
              "0        Euthanasia\n",
              "1          Adoption\n",
              "2          Adoption\n",
              "3        Euthanasia\n",
              "4        Euthanasia\n",
              "            ...    \n",
              "31864      Transfer\n",
              "31865    Euthanasia\n",
              "31866    Euthanasia\n",
              "31867    Euthanasia\n",
              "31868    Euthanasia\n",
              "Name: outcome_type, Length: 31869, dtype: object"
            ]
          },
          "metadata": {
            "tags": []
          },
          "execution_count": 143
        }
      ]
    },
    {
      "cell_type": "code",
      "metadata": {
        "id": "dtEkQX3ZUTvM",
        "colab_type": "code",
        "colab": {}
      },
      "source": [
        "output_file"
      ],
      "execution_count": 0,
      "outputs": []
    },
    {
      "cell_type": "code",
      "metadata": {
        "id": "X_MuxlwfUTrW",
        "colab_type": "code",
        "colab": {}
      },
      "source": [
        "output_file_final = output_file[['animal_id_outcome','outcome_type']]"
      ],
      "execution_count": 0,
      "outputs": []
    },
    {
      "cell_type": "code",
      "metadata": {
        "id": "POh9oND2UToT",
        "colab_type": "code",
        "colab": {}
      },
      "source": [
        "output_file_final.to_csv('output_file_minority_oversampled.csv',index=False)"
      ],
      "execution_count": 0,
      "outputs": []
    }
  ]
}