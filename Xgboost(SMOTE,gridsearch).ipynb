{
  "nbformat": 4,
  "nbformat_minor": 0,
  "metadata": {
    "colab": {
      "name": "Xgboost(SMOTE,gridsearch).ipynb",
      "provenance": [],
      "collapsed_sections": [],
      "machine_shape": "hm"
    },
    "kernelspec": {
      "name": "python3",
      "display_name": "Python 3"
    }
  },
  "cells": [
    {
      "cell_type": "markdown",
      "metadata": {
        "id": "fwJcKZIwyGBO",
        "colab_type": "text"
      },
      "source": [
        "Loading and cleaning the dataset"
      ]
    },
    {
      "cell_type": "code",
      "metadata": {
        "id": "pUqQWdfhYkan",
        "colab_type": "code",
        "colab": {}
      },
      "source": [
        "import numpy as np\n",
        "import matplotlib.pyplot as plt\n",
        "import pandas as pd\n",
        "\n",
        "# Importing the dataset\n",
        "dataset = pd.read_excel('edited master copy.xlsx')\n",
        "dataset = dataset[dataset['sex_upon_intake'].notna()]\n",
        "\n",
        "\n",
        "##taking intake age and intake number\n",
        "X = dataset.iloc[:, [1,4,5,6,7,9,11,13]].values\n",
        "y = dataset.iloc[:, 14].values\n",
        "\n",
        "\n",
        "# Feature Scaling\n",
        "#from sklearn.preprocessing import StandardScaler\n",
        "#sc = StandardScaler()\n",
        "#X_train = sc.fit_transform(X_train)\n",
        "#X_test = sc.transform(X_test)\n",
        "\n",
        "\n",
        "\n",
        "\n",
        "\n",
        "\n"
      ],
      "execution_count": 0,
      "outputs": []
    },
    {
      "cell_type": "code",
      "metadata": {
        "id": "gE005zC-a2VL",
        "colab_type": "code",
        "colab": {}
      },
      "source": [
        "\n",
        "\n",
        "len(dataset)"
      ],
      "execution_count": 0,
      "outputs": []
    },
    {
      "cell_type": "markdown",
      "metadata": {
        "id": "5Sho5BKLyUBe",
        "colab_type": "text"
      },
      "source": [
        "Since most of the features provided are categorical in nature , one hot coding, label encoding has been performed on the respective cols"
      ]
    },
    {
      "cell_type": "code",
      "metadata": {
        "id": "_sNl2rUCa732",
        "colab_type": "code",
        "colab": {}
      },
      "source": [
        "from sklearn.preprocessing import LabelEncoder , OneHotEncoder\n",
        "from sklearn.compose import ColumnTransformer\n",
        "labelcoder_y = LabelEncoder()\n",
        "y = labelcoder_y.fit_transform(y)\n",
        "\n",
        "\n",
        "\n",
        "\n",
        "\n",
        "\n"
      ],
      "execution_count": 0,
      "outputs": []
    },
    {
      "cell_type": "code",
      "metadata": {
        "id": "hEops4-1bHZR",
        "colab_type": "code",
        "outputId": "e4e11a67-84d2-491e-a53c-dabfa8092988",
        "colab": {
          "base_uri": "https://localhost:8080/",
          "height": 35
        }
      },
      "source": [
        "y"
      ],
      "execution_count": 5,
      "outputs": [
        {
          "output_type": "execute_result",
          "data": {
            "text/plain": [
              "array([6, 6, 6, ..., 6, 0, 3])"
            ]
          },
          "metadata": {
            "tags": []
          },
          "execution_count": 5
        }
      ]
    },
    {
      "cell_type": "code",
      "metadata": {
        "id": "1tvTPzcZFRod",
        "colab_type": "code",
        "outputId": "1e0ea717-adcc-47fe-f551-062eed5f20d2",
        "colab": {
          "base_uri": "https://localhost:8080/",
          "height": 35
        }
      },
      "source": [
        "le_name_mapping = dict(zip(labelcoder_y.classes_, labelcoder_y.transform(labelcoder_y.classes_)))\n",
        "print(le_name_mapping)"
      ],
      "execution_count": 6,
      "outputs": [
        {
          "output_type": "stream",
          "text": [
            "{'Adoption': 0, 'Died': 1, 'Disposal': 2, 'Euthanasia': 3, 'Missing': 4, 'Relocate': 5, 'Return to Owner': 6, 'Rto-Adopt': 7, 'Transfer': 8}\n"
          ],
          "name": "stdout"
        }
      ]
    },
    {
      "cell_type": "code",
      "metadata": {
        "id": "iFlvlpwnEe9n",
        "colab_type": "code",
        "outputId": "20acc95d-38a7-4a19-e485-580ffd2cf5b0",
        "colab": {
          "base_uri": "https://localhost:8080/",
          "height": 35
        }
      },
      "source": [
        "y[0:10]"
      ],
      "execution_count": 7,
      "outputs": [
        {
          "output_type": "execute_result",
          "data": {
            "text/plain": [
              "array([6, 6, 6, 4, 6, 6, 6, 6, 6, 6])"
            ]
          },
          "metadata": {
            "tags": []
          },
          "execution_count": 7
        }
      ]
    },
    {
      "cell_type": "code",
      "metadata": {
        "id": "NiJo7yAZGdO1",
        "colab_type": "code",
        "colab": {}
      },
      "source": [
        ""
      ],
      "execution_count": 0,
      "outputs": []
    },
    {
      "cell_type": "code",
      "metadata": {
        "id": "_a3XAp8GbowK",
        "colab_type": "code",
        "outputId": "5513754a-0e0c-49ec-981e-41f7e7b54958",
        "colab": {
          "base_uri": "https://localhost:8080/",
          "height": 52
        }
      },
      "source": [
        "X[100, :]\n"
      ],
      "execution_count": 8,
      "outputs": [
        {
          "output_type": "execute_result",
          "data": {
            "text/plain": [
              "array(['Dog', 'Aged', 'Stray', 'Spayed Female', 14.0, 1, 'Spayed Female',\n",
              "       5112.231944], dtype=object)"
            ]
          },
          "metadata": {
            "tags": []
          },
          "execution_count": 8
        }
      ]
    },
    {
      "cell_type": "code",
      "metadata": {
        "id": "Gcjdh1QzYpmQ",
        "colab_type": "code",
        "colab": {}
      },
      "source": [
        "ct = ColumnTransformer([(\"encoding\", OneHotEncoder(), [0,1,2,3,6])], remainder = 'passthrough')\n",
        "X = ct.fit_transform(X)"
      ],
      "execution_count": 0,
      "outputs": []
    },
    {
      "cell_type": "code",
      "metadata": {
        "id": "vDuMwTIQYppW",
        "colab_type": "code",
        "outputId": "06269f20-43a7-457a-8080-ba87f3008ca3",
        "colab": {
          "base_uri": "https://localhost:8080/",
          "height": 52
        }
      },
      "source": [
        "X[100, :]"
      ],
      "execution_count": 10,
      "outputs": [
        {
          "output_type": "execute_result",
          "data": {
            "text/plain": [
              "<1x30 sparse matrix of type '<class 'numpy.float64'>'\n",
              "\twith 8 stored elements in Compressed Sparse Row format>"
            ]
          },
          "metadata": {
            "tags": []
          },
          "execution_count": 10
        }
      ]
    },
    {
      "cell_type": "code",
      "metadata": {
        "id": "GgzrjVTaYm5f",
        "colab_type": "code",
        "colab": {}
      },
      "source": [
        ""
      ],
      "execution_count": 0,
      "outputs": []
    },
    {
      "cell_type": "markdown",
      "metadata": {
        "id": "KPY6F6Pyyp0X",
        "colab_type": "text"
      },
      "source": [
        " Splitting the dataset into the Training set and Test set"
      ]
    },
    {
      "cell_type": "code",
      "metadata": {
        "id": "bLSPx8uVa7Dq",
        "colab_type": "code",
        "colab": {}
      },
      "source": [
        "\n",
        "#from sklearn.cross_validation import train_test_split\n",
        "\n",
        "from sklearn.model_selection import train_test_split\n",
        "X_train, X_test, y_train, y_test = train_test_split(X, y, test_size = 0.20, random_state = 0)"
      ],
      "execution_count": 0,
      "outputs": []
    },
    {
      "cell_type": "code",
      "metadata": {
        "id": "FFMgp_Rir9Wi",
        "colab_type": "code",
        "outputId": "99c4daa7-cfcd-440f-ebd5-7e3b4f015629",
        "colab": {
          "base_uri": "https://localhost:8080/",
          "height": 52
        }
      },
      "source": [
        "X_train"
      ],
      "execution_count": 12,
      "outputs": [
        {
          "output_type": "execute_result",
          "data": {
            "text/plain": [
              "<38241x30 sparse matrix of type '<class 'numpy.float64'>'\n",
              "\twith 305750 stored elements in Compressed Sparse Row format>"
            ]
          },
          "metadata": {
            "tags": []
          },
          "execution_count": 12
        }
      ]
    },
    {
      "cell_type": "code",
      "metadata": {
        "id": "_LUn0tT5r_sc",
        "colab_type": "code",
        "outputId": "a3651593-e031-4631-cfce-13dc111ff453",
        "colab": {
          "base_uri": "https://localhost:8080/",
          "height": 35
        }
      },
      "source": [
        "y_train"
      ],
      "execution_count": 13,
      "outputs": [
        {
          "output_type": "execute_result",
          "data": {
            "text/plain": [
              "array([5, 0, 1, ..., 0, 7, 0])"
            ]
          },
          "metadata": {
            "tags": []
          },
          "execution_count": 13
        }
      ]
    },
    {
      "cell_type": "markdown",
      "metadata": {
        "id": "f9HCkbaEy3Rg",
        "colab_type": "text"
      },
      "source": [
        "XGBoost is an optimized distributed gradient boosting library designed to be highly efficient, flexible and portable. It implements machine learning algorithms under the Gradient Boosting framework. XGBoost provides a parallel tree boosting (also known as GBDT, GBM) that solve many data science problems in a fast and accurate way. "
      ]
    },
    {
      "cell_type": "code",
      "metadata": {
        "id": "9KEJOUGIp-Kp",
        "colab_type": "code",
        "outputId": "81d145bb-561a-4396-e969-7ee3b956227c",
        "colab": {
          "base_uri": "https://localhost:8080/",
          "height": 141
        }
      },
      "source": [
        "from xgboost import XGBClassifier\n",
        "classifier1 = XGBClassifier()\n",
        "print(classifier1)\n",
        " \n",
        "# Cross validation scores\n",
        "from sklearn.model_selection import cross_val_score\n",
        "accuracies = cross_val_score(estimator = classifier1, X = X_train, y = y_train, cv = 5)\n",
        "#\n",
        "\n",
        "\n",
        "\n",
        "\n",
        "\n"
      ],
      "execution_count": 14,
      "outputs": [
        {
          "output_type": "stream",
          "text": [
            "XGBClassifier(base_score=0.5, booster='gbtree', colsample_bylevel=1,\n",
            "              colsample_bynode=1, colsample_bytree=1, gamma=0,\n",
            "              learning_rate=0.1, max_delta_step=0, max_depth=3,\n",
            "              min_child_weight=1, missing=None, n_estimators=100, n_jobs=1,\n",
            "              nthread=None, objective='binary:logistic', random_state=0,\n",
            "              reg_alpha=0, reg_lambda=1, scale_pos_weight=1, seed=None,\n",
            "              silent=None, subsample=1, verbosity=1)\n"
          ],
          "name": "stdout"
        }
      ]
    },
    {
      "cell_type": "code",
      "metadata": {
        "id": "5tUejTWrqvs0",
        "colab_type": "code",
        "outputId": "58834f30-f7fb-4c69-fa10-16ee6e443ce4",
        "colab": {
          "base_uri": "https://localhost:8080/",
          "height": 35
        }
      },
      "source": [
        "print(\"accuracies = \",accuracies,\" Mean accuracies score = \",np.mean(accuracies))"
      ],
      "execution_count": 15,
      "outputs": [
        {
          "output_type": "stream",
          "text": [
            "accuracies =  [0.57432344 0.56289226 0.57479079 0.57204498 0.57583682]  Mean accuracies score =  0.5719776589058323\n"
          ],
          "name": "stdout"
        }
      ]
    },
    {
      "cell_type": "markdown",
      "metadata": {
        "id": "BJHK6WCo-irr",
        "colab_type": "text"
      },
      "source": [
        "setting flag = 0 for when the next task is disabled . on enabling flag changes to 1"
      ]
    },
    {
      "cell_type": "code",
      "metadata": {
        "id": "bJOhny88-xWn",
        "colab_type": "code",
        "colab": {}
      },
      "source": [
        "flag = 0"
      ],
      "execution_count": 0,
      "outputs": []
    },
    {
      "cell_type": "markdown",
      "metadata": {
        "id": "pDo2Ey669bPf",
        "colab_type": "text"
      },
      "source": [
        "The following code is parameter tuning to get the best possible parameters for Xgboost . Total of 135 different splits .It might take a while to run this particular section.\n",
        "For now i have disabled the tuning code. Disable the code by removing ###"
      ]
    },
    {
      "cell_type": "code",
      "metadata": {
        "id": "iUpr9JIrqz-o",
        "colab_type": "code",
        "outputId": "e324aa58-a950-4217-c340-f83acec27ed1",
        "colab": {
          "base_uri": "https://localhost:8080/",
          "height": 70
        }
      },
      "source": [
        "###from sklearn.model_selection import GridSearchCV, train_test_split,cross_val_score\n",
        "# Create parameters to search\n",
        "###params = {'learning_rate': [0.01],'n_estimators': [900,1000,1100],'max_depth':[7,8,9],'reg_alpha':[0.3,0.4,0.5]}\n",
        " \n",
        "# Initializing the XGBoost Regressor\n",
        "###xgb_model = XGBClassifier()\n",
        "###flag = 1\n",
        " \n",
        "# Gridsearch initializaation\n",
        "###gsearch = GridSearchCV(xgb_model, params,verbose=True,cv=5, n_jobs=2)\n",
        " \n",
        "###gsearch.fit(X_train, y_train)\n",
        " \n",
        "#Printing the best chosen params\n",
        "###print(\"Best Parameters :\",gsearch.best_params_)\n",
        " \n",
        "###params = {'objective':'binary:logistic', 'booster':'gbtree'}\n",
        " \n",
        "# Updating the parameter as per grid search\n",
        "###params.update(gsearch.best_params_)\n",
        " \n",
        "# Initializing the XGBoost Regressor\n",
        "###xgb_model = xgb.XGBClassifier(**params)\n",
        "###print(xgb_model)\n",
        " \n",
        "\n",
        "# Cross validation scores\n",
        "\n",
        "###from sklearn.model_selection import cross_val_score\n",
        "###accuracies = cross_val_score(estimator = classifier1, X = X_train, y = y_train, cv = 5)\n",
        "###print(\"accuracies = \",accuracies,\" Mean accuracies score = \",np.mean(accuracies))\n",
        " \n"
      ],
      "execution_count": 0,
      "outputs": [
        {
          "output_type": "stream",
          "text": [
            "Fitting 5 folds for each of 27 candidates, totalling 135 fits\n"
          ],
          "name": "stdout"
        },
        {
          "output_type": "stream",
          "text": [
            "[Parallel(n_jobs=2)]: Using backend LokyBackend with 2 concurrent workers.\n",
            "[Parallel(n_jobs=2)]: Done  46 tasks      | elapsed: 140.5min\n"
          ],
          "name": "stderr"
        }
      ]
    },
    {
      "cell_type": "markdown",
      "metadata": {
        "id": "CY7QY17u90l8",
        "colab_type": "text"
      },
      "source": [
        "If the above model is not able to generate due to computaional complexities/ taking a lot of time to tune one can use the normal xg boost classifier (classifier1) to genertae output file.\n"
      ]
    },
    {
      "cell_type": "code",
      "metadata": {
        "id": "MZO2swR51Nhe",
        "colab_type": "code",
        "colab": {}
      },
      "source": [
        "###xgb_model = XGBClassifier()"
      ],
      "execution_count": 0,
      "outputs": []
    },
    {
      "cell_type": "code",
      "metadata": {
        "id": "m-XdYxWtrgxf",
        "colab_type": "code",
        "colab": {}
      },
      "source": [
        "#Fitting model on tuned parameters\n",
        "###xgb_model.fit(X_train, y_train)"
      ],
      "execution_count": 0,
      "outputs": []
    },
    {
      "cell_type": "code",
      "metadata": {
        "id": "ODnNJaGcsGNe",
        "colab_type": "code",
        "colab": {}
      },
      "source": [
        ""
      ],
      "execution_count": 0,
      "outputs": []
    },
    {
      "cell_type": "code",
      "metadata": {
        "id": "Hdv3FwYXnw6s",
        "colab_type": "code",
        "colab": {
          "base_uri": "https://localhost:8080/",
          "height": 141
        },
        "outputId": "9696047c-1390-4504-9d45-4ebbe03aeda7"
      },
      "source": [
        "classifier1.fit(X_train, y_train)"
      ],
      "execution_count": 16,
      "outputs": [
        {
          "output_type": "execute_result",
          "data": {
            "text/plain": [
              "XGBClassifier(base_score=0.5, booster='gbtree', colsample_bylevel=1,\n",
              "              colsample_bynode=1, colsample_bytree=1, gamma=0,\n",
              "              learning_rate=0.1, max_delta_step=0, max_depth=3,\n",
              "              min_child_weight=1, missing=None, n_estimators=100, n_jobs=1,\n",
              "              nthread=None, objective='multi:softprob', random_state=0,\n",
              "              reg_alpha=0, reg_lambda=1, scale_pos_weight=1, seed=None,\n",
              "              silent=None, subsample=1, verbosity=1)"
            ]
          },
          "metadata": {
            "tags": []
          },
          "execution_count": 16
        }
      ]
    },
    {
      "cell_type": "code",
      "metadata": {
        "colab_type": "code",
        "id": "FanrkgE-rYlc",
        "colab": {}
      },
      "source": [
        "y_pred = classifier1.predict(X_test)"
      ],
      "execution_count": 0,
      "outputs": []
    },
    {
      "cell_type": "code",
      "metadata": {
        "colab_type": "code",
        "outputId": "b39c0597-aadb-4931-c20b-607791d05c34",
        "id": "3yH1JL-erYlg",
        "colab": {
          "base_uri": "https://localhost:8080/",
          "height": 177
        }
      },
      "source": [
        "from sklearn.metrics import confusion_matrix\n",
        "cm_xgboost = confusion_matrix(y_test, y_pred)\n",
        "cm_xgboost\n"
      ],
      "execution_count": 18,
      "outputs": [
        {
          "output_type": "execute_result",
          "data": {
            "text/plain": [
              "array([[2203,    0,    0,   17,    0,    0,  312,    0,   75],\n",
              "       [ 318,    0,    0,   28,    0,    0,   66,    0,  170],\n",
              "       [   0,    0,    7,   26,    0,    0,    1,    0,    0],\n",
              "       [  62,    1,    1,  516,    0,    0,   82,    0,  127],\n",
              "       [ 348,    1,    0,    8,    0,    0,   67,    0,  133],\n",
              "       [ 298,    0,    0,    7,    0,    0,   80,    0,  139],\n",
              "       [ 271,    0,    0,   25,    0,    0, 1588,    0,   44],\n",
              "       [ 282,    0,    0,    7,    0,    0,   64,    0,  120],\n",
              "       [ 612,    1,    0,   51,    0,    0,  236,    0, 1167]])"
            ]
          },
          "metadata": {
            "tags": []
          },
          "execution_count": 18
        }
      ]
    },
    {
      "cell_type": "markdown",
      "metadata": {
        "id": "bGwSv08v-dsY",
        "colab_type": "text"
      },
      "source": [
        "{'Adoption': 0, 'Died': 1, 'Disposal': 2, 'Euthanasia': 3, 'Missing': 4, 'Relocate': 5, 'Return to Owner': 6, 'Rto-Adopt': 7, 'Transfer': 8}"
      ]
    },
    {
      "cell_type": "markdown",
      "metadata": {
        "id": "6B4HnE_m-RgX",
        "colab_type": "text"
      },
      "source": [
        "model performs well on classes 'Adoption' and 'transfer' as most of the samples are distributed between these two classes. Also poor performane is observed for 'disposal' and 'RTO-Adopt'."
      ]
    },
    {
      "cell_type": "code",
      "metadata": {
        "colab_type": "code",
        "outputId": "b9a1115a-6b5c-4e1f-fee7-c77aa0394c72",
        "id": "XT_3c9NArYlj",
        "colab": {
          "base_uri": "https://localhost:8080/",
          "height": 35
        }
      },
      "source": [
        "from sklearn.model_selection import cross_val_score\n",
        "accuracies = cross_val_score(estimator = classifier1, X = X_train, y = y_train, cv = 5)\n",
        "accuracies.mean()\n"
      ],
      "execution_count": 19,
      "outputs": [
        {
          "output_type": "execute_result",
          "data": {
            "text/plain": [
              "0.5719776589058323"
            ]
          },
          "metadata": {
            "tags": []
          },
          "execution_count": 19
        }
      ]
    },
    {
      "cell_type": "markdown",
      "metadata": {
        "id": "rEsptBbs0YzI",
        "colab_type": "text"
      },
      "source": [
        "Over sampling of minority classes can help to create a better classifier . In the next section both oversampling and undersampling has been tried through a pipeline using SMOTE\n",
        "\n"
      ]
    },
    {
      "cell_type": "code",
      "metadata": {
        "id": "Pq04H_ixI3D0",
        "colab_type": "code",
        "outputId": "e6f231f7-a780-4d60-cf4e-0c6e1b145d2b",
        "colab": {
          "base_uri": "https://localhost:8080/",
          "height": 319
        }
      },
      "source": [
        "print(\"Before OverSampling, counts of label '0': {}\".format(sum(y_train == 0))) \n",
        "print(\"Before OverSampling, counts of label '1': {} \\n\".format(sum(y_train == 1))) \n",
        "print(\"Before OverSampling, counts of label '2': {} \\n\".format(sum(y_train == 2))) \n",
        "print(\"Before OverSampling, counts of label '3': {} \\n\".format(sum(y_train == 3))) \n",
        "print(\"Before OverSampling, counts of label '4': {} \\n\".format(sum(y_train == 4))) \n",
        "print(\"Before OverSampling, counts of label '5': {} \\n\".format(sum(y_train == 5))) \n",
        "print(\"Before OverSampling, counts of label '6': {} \\n\".format(sum(y_train == 6))) \n",
        "print(\"Before OverSampling, counts of label '7': {} \\n\".format(sum(y_train == 7))) \n",
        "print(\"Before OverSampling, counts of label '8': {} \\n\".format(sum(y_train == 8))) \n",
        "\n",
        "\n",
        "\n",
        "\n",
        "\n",
        "\n",
        "\n"
      ],
      "execution_count": 20,
      "outputs": [
        {
          "output_type": "stream",
          "text": [
            "Before OverSampling, counts of label '0': 10360\n",
            "Before OverSampling, counts of label '1': 2247 \n",
            "\n",
            "Before OverSampling, counts of label '2': 144 \n",
            "\n",
            "Before OverSampling, counts of label '3': 3355 \n",
            "\n",
            "Before OverSampling, counts of label '4': 2042 \n",
            "\n",
            "Before OverSampling, counts of label '5': 2049 \n",
            "\n",
            "Before OverSampling, counts of label '6': 7789 \n",
            "\n",
            "Before OverSampling, counts of label '7': 1977 \n",
            "\n",
            "Before OverSampling, counts of label '8': 8278 \n",
            "\n"
          ],
          "name": "stdout"
        }
      ]
    },
    {
      "cell_type": "code",
      "metadata": {
        "id": "EneARmJ-FNNk",
        "colab_type": "code",
        "outputId": "701997c9-e57e-455f-ced3-fc2be7988491",
        "colab": {
          "base_uri": "https://localhost:8080/",
          "height": 144
        }
      },
      "source": [
        "###oversampling using SMOTE\n",
        "from imblearn.over_sampling import SMOTE\n",
        "#dict1 = {2:2000 , 4:4000 , 5:4000 , 7:4000 }\n",
        "smote = SMOTE(sampling_strategy='minority')\n",
        "#smote = SMOTE(sampling_strategy=dict1)\n",
        "X_sm, y_sm = smote.fit_sample(X_train, y_train)"
      ],
      "execution_count": 21,
      "outputs": [
        {
          "output_type": "stream",
          "text": [
            "/usr/local/lib/python3.6/dist-packages/sklearn/externals/six.py:31: FutureWarning: The module is deprecated in version 0.21 and will be removed in version 0.23 since we've dropped support for Python 2.7. Please rely on the official version of six (https://pypi.org/project/six/).\n",
            "  \"(https://pypi.org/project/six/).\", FutureWarning)\n",
            "/usr/local/lib/python3.6/dist-packages/sklearn/utils/deprecation.py:144: FutureWarning: The sklearn.neighbors.base module is  deprecated in version 0.22 and will be removed in version 0.24. The corresponding classes / functions should instead be imported from sklearn.neighbors. Anything that cannot be imported from sklearn.neighbors is now part of the private API.\n",
            "  warnings.warn(message, FutureWarning)\n",
            "/usr/local/lib/python3.6/dist-packages/sklearn/utils/deprecation.py:87: FutureWarning: Function safe_indexing is deprecated; safe_indexing is deprecated in version 0.22 and will be removed in version 0.24.\n",
            "  warnings.warn(msg, category=FutureWarning)\n"
          ],
          "name": "stderr"
        }
      ]
    },
    {
      "cell_type": "code",
      "metadata": {
        "id": "qCf2IoKlzd95",
        "colab_type": "code",
        "colab": {}
      },
      "source": [
        "from imblearn.under_sampling import RandomUnderSampler\n"
      ],
      "execution_count": 0,
      "outputs": []
    },
    {
      "cell_type": "code",
      "metadata": {
        "id": "G74evDuGFneT",
        "colab_type": "code",
        "outputId": "446c280c-34d1-4292-fd15-93eacc492c09",
        "colab": {
          "base_uri": "https://localhost:8080/",
          "height": 35
        }
      },
      "source": [
        "X_sm.shape"
      ],
      "execution_count": 23,
      "outputs": [
        {
          "output_type": "execute_result",
          "data": {
            "text/plain": [
              "(48457, 30)"
            ]
          },
          "metadata": {
            "tags": []
          },
          "execution_count": 23
        }
      ]
    },
    {
      "cell_type": "code",
      "metadata": {
        "id": "8CWhSazZNgT5",
        "colab_type": "code",
        "outputId": "93800c85-fad6-434a-be31-9cafa5976018",
        "colab": {
          "base_uri": "https://localhost:8080/",
          "height": 177
        }
      },
      "source": [
        "print(\"After OverSampling, counts of label '0': {}\".format(sum(y_sm == 0))) \n",
        "print(\"After OverSampling, counts of label '1': {}\".format(sum(y_sm == 1))) \n",
        "print(\"After OverSampling, counts of label '2': {}\".format(sum(y_sm == 2))) \n",
        "print(\"After OverSampling, counts of label '3': {}\".format(sum(y_sm == 3))) \n",
        "print(\"After OverSampling, counts of label '4': {}\".format(sum(y_sm == 4))) \n",
        "print(\"After OverSampling, counts of label '5': {}\".format(sum(y_sm == 5))) \n",
        "print(\"After OverSampling, counts of label '6': {}\".format(sum(y_sm == 6))) \n",
        "print(\"After OverSampling, counts of label '7': {}\".format(sum(y_sm == 7))) \n",
        "print(\"After OverSampling, counts of label '8': {}\".format(sum(y_sm == 8))) \n",
        "\n",
        "\n"
      ],
      "execution_count": 24,
      "outputs": [
        {
          "output_type": "stream",
          "text": [
            "After OverSampling, counts of label '0': 10360\n",
            "After OverSampling, counts of label '1': 2247\n",
            "After OverSampling, counts of label '2': 10360\n",
            "After OverSampling, counts of label '3': 3355\n",
            "After OverSampling, counts of label '4': 2042\n",
            "After OverSampling, counts of label '5': 2049\n",
            "After OverSampling, counts of label '6': 7789\n",
            "After OverSampling, counts of label '7': 1977\n",
            "After OverSampling, counts of label '8': 8278\n"
          ],
          "name": "stdout"
        }
      ]
    },
    {
      "cell_type": "code",
      "metadata": {
        "id": "TMRcO3oRFxDU",
        "colab_type": "code",
        "outputId": "dac27d42-50b7-42f6-dc75-d2503946777a",
        "colab": {
          "base_uri": "https://localhost:8080/",
          "height": 141
        }
      },
      "source": [
        "from xgboost import XGBClassifier\n",
        "classifier2 = XGBClassifier()\n",
        "classifier2.fit(X_sm, y_sm)"
      ],
      "execution_count": 25,
      "outputs": [
        {
          "output_type": "execute_result",
          "data": {
            "text/plain": [
              "XGBClassifier(base_score=0.5, booster='gbtree', colsample_bylevel=1,\n",
              "              colsample_bynode=1, colsample_bytree=1, gamma=0,\n",
              "              learning_rate=0.1, max_delta_step=0, max_depth=3,\n",
              "              min_child_weight=1, missing=None, n_estimators=100, n_jobs=1,\n",
              "              nthread=None, objective='multi:softprob', random_state=0,\n",
              "              reg_alpha=0, reg_lambda=1, scale_pos_weight=1, seed=None,\n",
              "              silent=None, subsample=1, verbosity=1)"
            ]
          },
          "metadata": {
            "tags": []
          },
          "execution_count": 25
        }
      ]
    },
    {
      "cell_type": "code",
      "metadata": {
        "id": "Vzjk0IEMFxAg",
        "colab_type": "code",
        "colab": {}
      },
      "source": [
        "y_pred2 = classifier2.predict(X_test)"
      ],
      "execution_count": 0,
      "outputs": []
    },
    {
      "cell_type": "code",
      "metadata": {
        "id": "TnsUfXw7Fw85",
        "colab_type": "code",
        "outputId": "d69b9a67-70f6-42d9-bebe-a2e402d592fb",
        "colab": {
          "base_uri": "https://localhost:8080/",
          "height": 177
        }
      },
      "source": [
        "from sklearn.metrics import confusion_matrix\n",
        "cm_xgboost = confusion_matrix(y_test, y_pred2)\n",
        "cm_xgboost\n"
      ],
      "execution_count": 27,
      "outputs": [
        {
          "output_type": "execute_result",
          "data": {
            "text/plain": [
              "array([[2180,    0,    6,   13,    0,    0,  324,    0,   84],\n",
              "       [ 312,    0,   10,   17,    0,    0,   70,    0,  173],\n",
              "       [   0,    0,   28,    5,    0,    0,    1,    0,    0],\n",
              "       [  69,    0,  275,  228,    0,    0,   84,    0,  133],\n",
              "       [ 350,    0,    1,    9,    0,    0,   65,    0,  132],\n",
              "       [ 293,    0,    2,    5,    0,    0,   84,    0,  140],\n",
              "       [ 280,    0,    1,   16,    0,    0, 1578,    0,   53],\n",
              "       [ 281,    0,    0,    7,    0,    0,   65,    0,  120],\n",
              "       [ 595,    1,    5,   41,    0,    0,  239,    0, 1186]])"
            ]
          },
          "metadata": {
            "tags": []
          },
          "execution_count": 27
        }
      ]
    },
    {
      "cell_type": "code",
      "metadata": {
        "id": "5_9zGp3QHygr",
        "colab_type": "code",
        "outputId": "0b5d7780-da56-4ddf-b82d-77405747a29c",
        "colab": {
          "base_uri": "https://localhost:8080/",
          "height": 35
        }
      },
      "source": [
        "from sklearn.model_selection import cross_val_score\n",
        "accuracies = cross_val_score(estimator = classifier2, X = X_sm, y = y_sm, cv = 5)\n",
        "accuracies.mean()\n"
      ],
      "execution_count": 28,
      "outputs": [
        {
          "output_type": "execute_result",
          "data": {
            "text/plain": [
              "0.6367501610750311"
            ]
          },
          "metadata": {
            "tags": []
          },
          "execution_count": 28
        }
      ]
    },
    {
      "cell_type": "code",
      "metadata": {
        "id": "lVjy5NvX79vB",
        "colab_type": "code",
        "colab": {
          "base_uri": "https://localhost:8080/",
          "height": 35
        },
        "outputId": "3e9b7f6a-f695-4de6-d4f9-ea46640966bc"
      },
      "source": [
        "print(\"accuracies = \",accuracies,\" Mean accuracies score = \",np.mean(accuracies))"
      ],
      "execution_count": 29,
      "outputs": [
        {
          "output_type": "stream",
          "text": [
            "accuracies =  [0.63856789 0.63237722 0.63780828 0.63646682 0.6385306 ]  Mean accuracies score =  0.6367501610750311\n"
          ],
          "name": "stdout"
        }
      ]
    },
    {
      "cell_type": "markdown",
      "metadata": {
        "id": "SngocifZzw3d",
        "colab_type": "text"
      },
      "source": [
        "A trial with under sampling"
      ]
    },
    {
      "cell_type": "code",
      "metadata": {
        "id": "jdi21bShzv5N",
        "colab_type": "code",
        "colab": {}
      },
      "source": [
        ""
      ],
      "execution_count": 0,
      "outputs": []
    },
    {
      "cell_type": "code",
      "metadata": {
        "id": "2j5_TVT4z0yB",
        "colab_type": "code",
        "colab": {}
      },
      "source": [
        "# decision tree  on imbalanced dataset with SMOTE oversampling and random undersampling\n",
        "from numpy import mean\n",
        "from sklearn.datasets import make_classification\n",
        "from sklearn.model_selection import cross_val_score\n",
        "from sklearn.model_selection import RepeatedStratifiedKFold\n",
        "from sklearn.tree import DecisionTreeClassifier\n",
        "from imblearn.pipeline import Pipeline\n",
        "from imblearn.over_sampling import SMOTE\n",
        "from imblearn.under_sampling import RandomUnderSampler\n"
      ],
      "execution_count": 0,
      "outputs": []
    },
    {
      "cell_type": "code",
      "metadata": {
        "id": "FNKbHsMEz39h",
        "colab_type": "code",
        "outputId": "91bd9bba-aceb-4f6a-8400-fa3d1575660a",
        "colab": {
          "base_uri": "https://localhost:8080/",
          "height": 35
        }
      },
      "source": [
        "# define dataset\n",
        "X_train, y_train = X_train, y_train\n",
        "# define pipeline\n",
        "model = XGBClassifier()\n",
        "over = SMOTE(sampling_strategy='minority')\n",
        "#under = RandomUnderSampler(sampling_strategy='majority')\n",
        "#steps = [('under', under), ('model', model)]\n",
        "steps = [('over', over), ('model', model)]\n",
        "pipeline = Pipeline(steps=steps)\n",
        "# evaluate pipeline\n",
        "cv = RepeatedStratifiedKFold(n_splits=5, n_repeats=3, random_state=1)\n",
        "scores = cross_val_score(pipeline, X_train, y_train, scoring='f1_micro', cv=cv, n_jobs=-1)\n",
        "print('Mean f1_scores: %.3f' % mean(scores))"
      ],
      "execution_count": 31,
      "outputs": [
        {
          "output_type": "stream",
          "text": [
            "Mean f1_scores: 0.541\n"
          ],
          "name": "stdout"
        }
      ]
    },
    {
      "cell_type": "markdown",
      "metadata": {
        "id": "U8ucTrpNI8l2",
        "colab_type": "text"
      },
      "source": [
        "# Accuracy has increased to 63.6% when minority was sampled sampling strategy was 'minority' . f1 score has also increased to .54\n"
      ]
    },
    {
      "cell_type": "markdown",
      "metadata": {
        "id": "uSX_zUiD3zij",
        "colab_type": "text"
      },
      "source": [
        "mean f1 score .54 with only minority oversampling"
      ]
    },
    {
      "cell_type": "markdown",
      "metadata": {
        "id": "ztAhvyP3zMYF",
        "colab_type": "text"
      },
      "source": [
        "Decreased further when all smaller samples were over sampled "
      ]
    },
    {
      "cell_type": "markdown",
      "metadata": {
        "id": "r_BV2wSq6a9K",
        "colab_type": "text"
      },
      "source": [
        "After applying both oversampling and then undersampling on majority class and majority class respectively f1 score decreased to .44\n",
        "\n"
      ]
    },
    {
      "cell_type": "markdown",
      "metadata": {
        "id": "PJpNjEG8qVWz",
        "colab_type": "text"
      },
      "source": [
        "#  Output file generation/Prediction"
      ]
    },
    {
      "cell_type": "markdown",
      "metadata": {
        "id": "RbsT_maF1cvW",
        "colab_type": "text"
      },
      "source": [
        "We will be using our trained Xg boost classifier(with over sampling using SMOTE) to predict the test data set and generate the output file. "
      ]
    },
    {
      "cell_type": "code",
      "metadata": {
        "id": "f07kpyMh1b_U",
        "colab_type": "code",
        "colab": {}
      },
      "source": [
        "\n"
      ],
      "execution_count": 0,
      "outputs": []
    },
    {
      "cell_type": "markdown",
      "metadata": {
        "id": "EL25aKqvqVT6",
        "colab_type": "text"
      },
      "source": [
        "CAUTION since this is a reusable code please pay attention as to what classifier is being used to generate prediction incase you want to recheck output file.\n"
      ]
    },
    {
      "cell_type": "code",
      "metadata": {
        "id": "VpmUWHT_UT9B",
        "colab_type": "code",
        "colab": {}
      },
      "source": [
        "test_dataset = pd.read_excel('edited master test.xlsx')\n",
        "X_test1 = test_dataset.iloc[:, [1,4,5,6,7,9,11,13]].values"
      ],
      "execution_count": 0,
      "outputs": []
    },
    {
      "cell_type": "code",
      "metadata": {
        "id": "Rbl-0hotUT5U",
        "colab_type": "code",
        "colab": {}
      },
      "source": [
        ""
      ],
      "execution_count": 0,
      "outputs": []
    },
    {
      "cell_type": "code",
      "metadata": {
        "colab_type": "code",
        "outputId": "66560ad7-f732-4aba-85bd-752ab0b63f4a",
        "id": "UCALq1NcVMV5",
        "colab": {
          "base_uri": "https://localhost:8080/",
          "height": 35
        }
      },
      "source": [
        "len(test_dataset)"
      ],
      "execution_count": 33,
      "outputs": [
        {
          "output_type": "execute_result",
          "data": {
            "text/plain": [
              "31869"
            ]
          },
          "metadata": {
            "tags": []
          },
          "execution_count": 33
        }
      ]
    },
    {
      "cell_type": "code",
      "metadata": {
        "colab_type": "code",
        "outputId": "f1a7d3c5-3cbb-4613-94e0-c526f99f2525",
        "id": "haVS0ExJVMWC",
        "colab": {
          "base_uri": "https://localhost:8080/",
          "height": 52
        }
      },
      "source": [
        "X_test1[2,:]"
      ],
      "execution_count": 34,
      "outputs": [
        {
          "output_type": "execute_result",
          "data": {
            "text/plain": [
              "array(['Cat', 'Nursing', 'Stray', 'Intact Male', 0.076712329, 1,\n",
              "       'Neutered Male', 60.52013889], dtype=object)"
            ]
          },
          "metadata": {
            "tags": []
          },
          "execution_count": 34
        }
      ]
    },
    {
      "cell_type": "code",
      "metadata": {
        "colab_type": "code",
        "id": "UD0VFNK5VMWI",
        "colab": {}
      },
      "source": [
        "ct_test = ColumnTransformer([(\"encoding\", OneHotEncoder(), [0,1,2,3,6])], remainder = 'passthrough')\n",
        "X_test1 = ct_test.fit_transform(X_test1)"
      ],
      "execution_count": 0,
      "outputs": []
    },
    {
      "cell_type": "code",
      "metadata": {
        "id": "AROxp6y7UT2b",
        "colab_type": "code",
        "outputId": "76ca9c01-49da-40d1-877f-65b19343b8e1",
        "colab": {
          "base_uri": "https://localhost:8080/",
          "height": 52
        }
      },
      "source": [
        "X_test1[2,:]"
      ],
      "execution_count": 36,
      "outputs": [
        {
          "output_type": "execute_result",
          "data": {
            "text/plain": [
              "<1x30 sparse matrix of type '<class 'numpy.float64'>'\n",
              "\twith 8 stored elements in Compressed Sparse Row format>"
            ]
          },
          "metadata": {
            "tags": []
          },
          "execution_count": 36
        }
      ]
    },
    {
      "cell_type": "code",
      "metadata": {
        "id": "_A5jt6B5UTy7",
        "colab_type": "code",
        "colab": {}
      },
      "source": [
        ""
      ],
      "execution_count": 0,
      "outputs": []
    },
    {
      "cell_type": "code",
      "metadata": {
        "colab_type": "code",
        "id": "c1nAlSccWwSS",
        "colab": {}
      },
      "source": [
        "y_pred1 = classifier2.predict(X_test1)"
      ],
      "execution_count": 0,
      "outputs": []
    },
    {
      "cell_type": "code",
      "metadata": {
        "colab_type": "code",
        "outputId": "abe6a5a8-8b72-403f-b5c6-06426d605d29",
        "id": "87BB82WbWwSd",
        "colab": {
          "base_uri": "https://localhost:8080/",
          "height": 70
        }
      },
      "source": [
        "y_pred1[0:50]"
      ],
      "execution_count": 38,
      "outputs": [
        {
          "output_type": "execute_result",
          "data": {
            "text/plain": [
              "array([0, 0, 0, 8, 8, 6, 8, 0, 0, 8, 0, 0, 0, 0, 3, 0, 0, 0, 0, 0, 0, 2,\n",
              "       6, 0, 2, 6, 2, 3, 6, 0, 3, 0, 6, 0, 0, 6, 6, 0, 0, 0, 2, 6, 0, 6,\n",
              "       0, 0, 0, 6, 8, 2])"
            ]
          },
          "metadata": {
            "tags": []
          },
          "execution_count": 38
        }
      ]
    },
    {
      "cell_type": "code",
      "metadata": {
        "colab_type": "code",
        "id": "EpKw1pluWwSh",
        "colab": {}
      },
      "source": [
        "y_pred1 = labelcoder_y.inverse_transform(y_pred1)"
      ],
      "execution_count": 0,
      "outputs": []
    },
    {
      "cell_type": "code",
      "metadata": {
        "colab_type": "code",
        "outputId": "b4389ad8-74d5-43e3-d084-d42d0c078a8c",
        "id": "aQpnSKhSWwSl",
        "colab": {
          "base_uri": "https://localhost:8080/",
          "height": 52
        }
      },
      "source": [
        "y_pred1"
      ],
      "execution_count": 40,
      "outputs": [
        {
          "output_type": "execute_result",
          "data": {
            "text/plain": [
              "array(['Adoption', 'Adoption', 'Adoption', ..., 'Disposal', 'Transfer',\n",
              "       'Return to Owner'], dtype=object)"
            ]
          },
          "metadata": {
            "tags": []
          },
          "execution_count": 40
        }
      ]
    },
    {
      "cell_type": "code",
      "metadata": {
        "colab_type": "code",
        "id": "f1-urrwOWwSr",
        "colab": {}
      },
      "source": [
        "output_file = test_dataset"
      ],
      "execution_count": 0,
      "outputs": []
    },
    {
      "cell_type": "code",
      "metadata": {
        "colab_type": "code",
        "id": "Y5Zc8ti1WwSv",
        "colab": {}
      },
      "source": [
        "output_file['outcome_type'] = y_pred1 "
      ],
      "execution_count": 0,
      "outputs": []
    },
    {
      "cell_type": "code",
      "metadata": {
        "colab_type": "code",
        "outputId": "8881039c-b221-4912-9069-22d4397eac7e",
        "id": "OQFioNj2WwSz",
        "colab": {
          "base_uri": "https://localhost:8080/",
          "height": 230
        }
      },
      "source": [
        "output_file['outcome_type']"
      ],
      "execution_count": 43,
      "outputs": [
        {
          "output_type": "execute_result",
          "data": {
            "text/plain": [
              "0               Adoption\n",
              "1               Adoption\n",
              "2               Adoption\n",
              "3               Transfer\n",
              "4               Transfer\n",
              "              ...       \n",
              "31864           Transfer\n",
              "31865           Disposal\n",
              "31866           Disposal\n",
              "31867           Transfer\n",
              "31868    Return to Owner\n",
              "Name: outcome_type, Length: 31869, dtype: object"
            ]
          },
          "metadata": {
            "tags": []
          },
          "execution_count": 43
        }
      ]
    },
    {
      "cell_type": "code",
      "metadata": {
        "id": "dtEkQX3ZUTvM",
        "colab_type": "code",
        "colab": {
          "base_uri": "https://localhost:8080/",
          "height": 672
        },
        "outputId": "d3c17bd2-2fea-4471-f916-48aca7b25b85"
      },
      "source": [
        "output_file"
      ],
      "execution_count": 44,
      "outputs": [
        {
          "output_type": "execute_result",
          "data": {
            "text/html": [
              "<div>\n",
              "<style scoped>\n",
              "    .dataframe tbody tr th:only-of-type {\n",
              "        vertical-align: middle;\n",
              "    }\n",
              "\n",
              "    .dataframe tbody tr th {\n",
              "        vertical-align: top;\n",
              "    }\n",
              "\n",
              "    .dataframe thead th {\n",
              "        text-align: right;\n",
              "    }\n",
              "</style>\n",
              "<table border=\"1\" class=\"dataframe\">\n",
              "  <thead>\n",
              "    <tr style=\"text-align: right;\">\n",
              "      <th></th>\n",
              "      <th>animal_id_outcome</th>\n",
              "      <th>animal_type</th>\n",
              "      <th>breed</th>\n",
              "      <th>color</th>\n",
              "      <th>intake_condition</th>\n",
              "      <th>intake_type</th>\n",
              "      <th>sex_upon_intake</th>\n",
              "      <th>age_upon_intake_(years)</th>\n",
              "      <th>age_upon_intake_(days)</th>\n",
              "      <th>intake_number</th>\n",
              "      <th>time_in_shelter_days</th>\n",
              "      <th>sex_upon_outcome</th>\n",
              "      <th>age_upon_outcome_(years)</th>\n",
              "      <th>age_upon_outcome_(days,Generated)</th>\n",
              "      <th>outcome_type</th>\n",
              "    </tr>\n",
              "  </thead>\n",
              "  <tbody>\n",
              "    <tr>\n",
              "      <th>0</th>\n",
              "      <td>A723133</td>\n",
              "      <td>Cat</td>\n",
              "      <td>Domestic Shorthair Mix</td>\n",
              "      <td>Brown Tabby</td>\n",
              "      <td>Nursing</td>\n",
              "      <td>Stray</td>\n",
              "      <td>Intact Female</td>\n",
              "      <td>3.000000</td>\n",
              "      <td>1095</td>\n",
              "      <td>1</td>\n",
              "      <td>5.200000</td>\n",
              "      <td>Spayed Female</td>\n",
              "      <td>3.000000</td>\n",
              "      <td>1100.200000</td>\n",
              "      <td>Adoption</td>\n",
              "    </tr>\n",
              "    <tr>\n",
              "      <th>1</th>\n",
              "      <td>A723134</td>\n",
              "      <td>Cat</td>\n",
              "      <td>Domestic Shorthair Mix</td>\n",
              "      <td>Brown Tabby</td>\n",
              "      <td>Nursing</td>\n",
              "      <td>Stray</td>\n",
              "      <td>Intact Female</td>\n",
              "      <td>0.076712</td>\n",
              "      <td>28</td>\n",
              "      <td>1</td>\n",
              "      <td>34.257639</td>\n",
              "      <td>Spayed Female</td>\n",
              "      <td>0.164384</td>\n",
              "      <td>62.257639</td>\n",
              "      <td>Adoption</td>\n",
              "    </tr>\n",
              "    <tr>\n",
              "      <th>2</th>\n",
              "      <td>A723135</td>\n",
              "      <td>Cat</td>\n",
              "      <td>Domestic Shorthair Mix</td>\n",
              "      <td>Brown Tabby</td>\n",
              "      <td>Nursing</td>\n",
              "      <td>Stray</td>\n",
              "      <td>Intact Male</td>\n",
              "      <td>0.076712</td>\n",
              "      <td>28</td>\n",
              "      <td>1</td>\n",
              "      <td>32.520139</td>\n",
              "      <td>Neutered Male</td>\n",
              "      <td>0.164384</td>\n",
              "      <td>60.520139</td>\n",
              "      <td>Adoption</td>\n",
              "    </tr>\n",
              "    <tr>\n",
              "      <th>3</th>\n",
              "      <td>A723136</td>\n",
              "      <td>Cat</td>\n",
              "      <td>Domestic Shorthair Mix</td>\n",
              "      <td>Brown Tabby</td>\n",
              "      <td>Nursing</td>\n",
              "      <td>Stray</td>\n",
              "      <td>Intact Female</td>\n",
              "      <td>0.076712</td>\n",
              "      <td>28</td>\n",
              "      <td>1</td>\n",
              "      <td>31.094444</td>\n",
              "      <td>Intact Female</td>\n",
              "      <td>0.082192</td>\n",
              "      <td>59.094444</td>\n",
              "      <td>Transfer</td>\n",
              "    </tr>\n",
              "    <tr>\n",
              "      <th>4</th>\n",
              "      <td>A723137</td>\n",
              "      <td>Cat</td>\n",
              "      <td>Domestic Shorthair Mix</td>\n",
              "      <td>Blue Tabby</td>\n",
              "      <td>Nursing</td>\n",
              "      <td>Stray</td>\n",
              "      <td>Intact Female</td>\n",
              "      <td>0.076712</td>\n",
              "      <td>28</td>\n",
              "      <td>1</td>\n",
              "      <td>37.007639</td>\n",
              "      <td>Intact Female</td>\n",
              "      <td>0.164384</td>\n",
              "      <td>65.007639</td>\n",
              "      <td>Transfer</td>\n",
              "    </tr>\n",
              "    <tr>\n",
              "      <th>...</th>\n",
              "      <td>...</td>\n",
              "      <td>...</td>\n",
              "      <td>...</td>\n",
              "      <td>...</td>\n",
              "      <td>...</td>\n",
              "      <td>...</td>\n",
              "      <td>...</td>\n",
              "      <td>...</td>\n",
              "      <td>...</td>\n",
              "      <td>...</td>\n",
              "      <td>...</td>\n",
              "      <td>...</td>\n",
              "      <td>...</td>\n",
              "      <td>...</td>\n",
              "      <td>...</td>\n",
              "    </tr>\n",
              "    <tr>\n",
              "      <th>31864</th>\n",
              "      <td>A769060</td>\n",
              "      <td>Cat</td>\n",
              "      <td>Domestic Shorthair Mix</td>\n",
              "      <td>Tortie</td>\n",
              "      <td>Normal</td>\n",
              "      <td>Stray</td>\n",
              "      <td>Unknown</td>\n",
              "      <td>0.038356</td>\n",
              "      <td>14</td>\n",
              "      <td>1</td>\n",
              "      <td>0.077083</td>\n",
              "      <td>Unknown</td>\n",
              "      <td>0.038356</td>\n",
              "      <td>14.077083</td>\n",
              "      <td>Transfer</td>\n",
              "    </tr>\n",
              "    <tr>\n",
              "      <th>31865</th>\n",
              "      <td>A769064</td>\n",
              "      <td>Other</td>\n",
              "      <td>Bat Mix</td>\n",
              "      <td>Brown</td>\n",
              "      <td>Normal</td>\n",
              "      <td>Wildlife</td>\n",
              "      <td>Unknown</td>\n",
              "      <td>2.000000</td>\n",
              "      <td>730</td>\n",
              "      <td>1</td>\n",
              "      <td>0.053472</td>\n",
              "      <td>Unknown</td>\n",
              "      <td>2.000000</td>\n",
              "      <td>730.053472</td>\n",
              "      <td>Disposal</td>\n",
              "    </tr>\n",
              "    <tr>\n",
              "      <th>31866</th>\n",
              "      <td>A769065</td>\n",
              "      <td>Other</td>\n",
              "      <td>Bat Mix</td>\n",
              "      <td>Brown</td>\n",
              "      <td>Normal</td>\n",
              "      <td>Wildlife</td>\n",
              "      <td>Unknown</td>\n",
              "      <td>1.000000</td>\n",
              "      <td>365</td>\n",
              "      <td>1</td>\n",
              "      <td>0.047917</td>\n",
              "      <td>Unknown</td>\n",
              "      <td>1.000000</td>\n",
              "      <td>365.047917</td>\n",
              "      <td>Disposal</td>\n",
              "    </tr>\n",
              "    <tr>\n",
              "      <th>31867</th>\n",
              "      <td>A769066</td>\n",
              "      <td>Dog</td>\n",
              "      <td>Labrador Retriever Mix</td>\n",
              "      <td>Black/White</td>\n",
              "      <td>Normal</td>\n",
              "      <td>Stray</td>\n",
              "      <td>Intact Male</td>\n",
              "      <td>0.410959</td>\n",
              "      <td>150</td>\n",
              "      <td>1</td>\n",
              "      <td>1.762500</td>\n",
              "      <td>Intact Male</td>\n",
              "      <td>0.821918</td>\n",
              "      <td>151.762500</td>\n",
              "      <td>Transfer</td>\n",
              "    </tr>\n",
              "    <tr>\n",
              "      <th>31868</th>\n",
              "      <td>A769067</td>\n",
              "      <td>Dog</td>\n",
              "      <td>Boxer Mix</td>\n",
              "      <td>Brown Brindle</td>\n",
              "      <td>Aged</td>\n",
              "      <td>Stray</td>\n",
              "      <td>Spayed Female</td>\n",
              "      <td>10.000000</td>\n",
              "      <td>3650</td>\n",
              "      <td>1</td>\n",
              "      <td>0.813889</td>\n",
              "      <td>Spayed Female</td>\n",
              "      <td>10.000000</td>\n",
              "      <td>3650.813889</td>\n",
              "      <td>Return to Owner</td>\n",
              "    </tr>\n",
              "  </tbody>\n",
              "</table>\n",
              "<p>31869 rows × 15 columns</p>\n",
              "</div>"
            ],
            "text/plain": [
              "      animal_id_outcome  ...     outcome_type\n",
              "0               A723133  ...         Adoption\n",
              "1               A723134  ...         Adoption\n",
              "2               A723135  ...         Adoption\n",
              "3               A723136  ...         Transfer\n",
              "4               A723137  ...         Transfer\n",
              "...                 ...  ...              ...\n",
              "31864           A769060  ...         Transfer\n",
              "31865           A769064  ...         Disposal\n",
              "31866           A769065  ...         Disposal\n",
              "31867           A769066  ...         Transfer\n",
              "31868           A769067  ...  Return to Owner\n",
              "\n",
              "[31869 rows x 15 columns]"
            ]
          },
          "metadata": {
            "tags": []
          },
          "execution_count": 44
        }
      ]
    },
    {
      "cell_type": "code",
      "metadata": {
        "id": "X_MuxlwfUTrW",
        "colab_type": "code",
        "colab": {}
      },
      "source": [
        "output_file_final = output_file[['animal_id_outcome','outcome_type']]"
      ],
      "execution_count": 0,
      "outputs": []
    },
    {
      "cell_type": "markdown",
      "metadata": {
        "id": "YBEqAvcS_FTl",
        "colab_type": "text"
      },
      "source": [
        "Removing the index col"
      ]
    },
    {
      "cell_type": "code",
      "metadata": {
        "id": "POh9oND2UToT",
        "colab_type": "code",
        "colab": {}
      },
      "source": [
        "output_file_final.to_csv('output_file_minority_oversampled.csv',index=False)"
      ],
      "execution_count": 0,
      "outputs": []
    },
    {
      "cell_type": "markdown",
      "metadata": {
        "id": "JMX-3cWB_MXu",
        "colab_type": "text"
      },
      "source": [
        "This file generates a max accuracy of 63.6 percent (when oversampling is used). The F1 score is .54 as of now. "
      ]
    },
    {
      "cell_type": "markdown",
      "metadata": {
        "id": "aBXmlOM7HPpS",
        "colab_type": "text"
      },
      "source": [
        "# New Section OUTPUT file generation from tuned XG boost model"
      ]
    },
    {
      "cell_type": "markdown",
      "metadata": {
        "id": "UNMZj7gGHZWW",
        "colab_type": "text"
      },
      "source": [
        ""
      ]
    },
    {
      "cell_type": "markdown",
      "metadata": {
        "colab_type": "text",
        "id": "I0mtRtS6HaHJ"
      },
      "source": [
        "#  Output file generation/Prediction"
      ]
    },
    {
      "cell_type": "markdown",
      "metadata": {
        "colab_type": "text",
        "id": "Sz9AhfTmHaHL"
      },
      "source": [
        "We will be using our trained Xg boost classifier to predict the test data set and generate the output file. "
      ]
    },
    {
      "cell_type": "code",
      "metadata": {
        "colab_type": "code",
        "id": "qbg25XlIHaHN",
        "colab": {}
      },
      "source": [
        "if flag == 0:\n",
        "  xgb_model = XGBClassifier()\n",
        "  xgb_model.fit(X_train, y_train)"
      ],
      "execution_count": 0,
      "outputs": []
    },
    {
      "cell_type": "markdown",
      "metadata": {
        "colab_type": "text",
        "id": "zHwYP3dHHaHR"
      },
      "source": [
        "CAUTION since this is a reusable code please pay attention as to what classifier is being used to generate prediction incase you want to recheck output file.\n"
      ]
    },
    {
      "cell_type": "code",
      "metadata": {
        "colab_type": "code",
        "id": "02L1L0fpHaHS",
        "colab": {}
      },
      "source": [
        "test_dataset = pd.read_excel('edited master test.xlsx')\n",
        "X_test1 = test_dataset.iloc[:, [1,4,5,6,7,9,11,13]].values"
      ],
      "execution_count": 0,
      "outputs": []
    },
    {
      "cell_type": "code",
      "metadata": {
        "colab_type": "code",
        "id": "uOtfLtfRHaHV",
        "colab": {}
      },
      "source": [
        ""
      ],
      "execution_count": 0,
      "outputs": []
    },
    {
      "cell_type": "code",
      "metadata": {
        "colab_type": "code",
        "outputId": "f7d9335a-3949-4447-d10f-fdd7e1d94f97",
        "id": "ObW4Bq-EHaHZ",
        "colab": {
          "base_uri": "https://localhost:8080/",
          "height": 35
        }
      },
      "source": [
        "len(test_dataset)"
      ],
      "execution_count": 53,
      "outputs": [
        {
          "output_type": "execute_result",
          "data": {
            "text/plain": [
              "31869"
            ]
          },
          "metadata": {
            "tags": []
          },
          "execution_count": 53
        }
      ]
    },
    {
      "cell_type": "code",
      "metadata": {
        "colab_type": "code",
        "outputId": "d3a0d4e0-ae93-48bb-8f53-bfb75ca7604c",
        "id": "3D-0bpZpHaHe",
        "colab": {
          "base_uri": "https://localhost:8080/",
          "height": 52
        }
      },
      "source": [
        "X_test1[2,:]"
      ],
      "execution_count": 54,
      "outputs": [
        {
          "output_type": "execute_result",
          "data": {
            "text/plain": [
              "array(['Cat', 'Nursing', 'Stray', 'Intact Male', 0.076712329, 1,\n",
              "       'Neutered Male', 60.52013889], dtype=object)"
            ]
          },
          "metadata": {
            "tags": []
          },
          "execution_count": 54
        }
      ]
    },
    {
      "cell_type": "code",
      "metadata": {
        "colab_type": "code",
        "id": "WF3tZJq1HaHg",
        "colab": {}
      },
      "source": [
        "ct_test = ColumnTransformer([(\"encoding\", OneHotEncoder(), [0,1,2,3,6])], remainder = 'passthrough')\n",
        "X_test1 = ct_test.fit_transform(X_test1)"
      ],
      "execution_count": 0,
      "outputs": []
    },
    {
      "cell_type": "code",
      "metadata": {
        "colab_type": "code",
        "outputId": "78ed2c9f-3d7e-4d39-f41e-1c83109d3249",
        "id": "SQ2enmkqHaHi",
        "colab": {
          "base_uri": "https://localhost:8080/",
          "height": 52
        }
      },
      "source": [
        "X_test1[2,:]"
      ],
      "execution_count": 56,
      "outputs": [
        {
          "output_type": "execute_result",
          "data": {
            "text/plain": [
              "<1x30 sparse matrix of type '<class 'numpy.float64'>'\n",
              "\twith 8 stored elements in Compressed Sparse Row format>"
            ]
          },
          "metadata": {
            "tags": []
          },
          "execution_count": 56
        }
      ]
    },
    {
      "cell_type": "code",
      "metadata": {
        "colab_type": "code",
        "id": "XJvRr19RHaHk",
        "colab": {}
      },
      "source": [
        ""
      ],
      "execution_count": 0,
      "outputs": []
    },
    {
      "cell_type": "markdown",
      "metadata": {
        "id": "jNK7jGPNIKoB",
        "colab_type": "text"
      },
      "source": [
        "Classifier being used is the xg boost classifier(tuned) if tunning is enabled otherwise XG boost without sampling"
      ]
    },
    {
      "cell_type": "code",
      "metadata": {
        "id": "Cuo_3Kxx9Knu",
        "colab_type": "code",
        "colab": {}
      },
      "source": [
        ""
      ],
      "execution_count": 0,
      "outputs": []
    },
    {
      "cell_type": "code",
      "metadata": {
        "colab_type": "code",
        "id": "vQxhcXhJHaHn",
        "colab": {}
      },
      "source": [
        "y_pred1 = xgb_model.predict(X_test1)"
      ],
      "execution_count": 0,
      "outputs": []
    },
    {
      "cell_type": "code",
      "metadata": {
        "colab_type": "code",
        "outputId": "514976ec-96f4-4191-aef9-1c4b3a85a06b",
        "id": "rTSf0sDmHaHp",
        "colab": {
          "base_uri": "https://localhost:8080/",
          "height": 70
        }
      },
      "source": [
        "y_pred1[0:50]"
      ],
      "execution_count": 58,
      "outputs": [
        {
          "output_type": "execute_result",
          "data": {
            "text/plain": [
              "array([0, 0, 0, 8, 8, 6, 8, 0, 0, 8, 0, 0, 0, 0, 3, 0, 0, 0, 0, 0, 0, 3,\n",
              "       6, 0, 3, 6, 3, 3, 6, 0, 3, 0, 6, 0, 0, 6, 6, 0, 0, 0, 3, 6, 6, 6,\n",
              "       0, 0, 0, 0, 8, 3])"
            ]
          },
          "metadata": {
            "tags": []
          },
          "execution_count": 58
        }
      ]
    },
    {
      "cell_type": "code",
      "metadata": {
        "colab_type": "code",
        "id": "v4YQHJcCHaHr",
        "colab": {}
      },
      "source": [
        "y_pred1 = labelcoder_y.inverse_transform(y_pred1)"
      ],
      "execution_count": 0,
      "outputs": []
    },
    {
      "cell_type": "code",
      "metadata": {
        "colab_type": "code",
        "outputId": "6c766d9f-903d-4d12-b7c2-98a79b279216",
        "id": "pS82DJR1HaHu",
        "colab": {
          "base_uri": "https://localhost:8080/",
          "height": 52
        }
      },
      "source": [
        "y_pred1"
      ],
      "execution_count": 60,
      "outputs": [
        {
          "output_type": "execute_result",
          "data": {
            "text/plain": [
              "array(['Adoption', 'Adoption', 'Adoption', ..., 'Euthanasia', 'Transfer',\n",
              "       'Return to Owner'], dtype=object)"
            ]
          },
          "metadata": {
            "tags": []
          },
          "execution_count": 60
        }
      ]
    },
    {
      "cell_type": "code",
      "metadata": {
        "colab_type": "code",
        "id": "ZkdHkfnQHaHx",
        "colab": {}
      },
      "source": [
        "output_file = test_dataset"
      ],
      "execution_count": 0,
      "outputs": []
    },
    {
      "cell_type": "code",
      "metadata": {
        "colab_type": "code",
        "id": "4u8grBaHHaHy",
        "colab": {}
      },
      "source": [
        "output_file['outcome_type'] = y_pred1 "
      ],
      "execution_count": 0,
      "outputs": []
    },
    {
      "cell_type": "code",
      "metadata": {
        "colab_type": "code",
        "outputId": "6cefc5b5-bc23-4c1d-f01b-07cc9b19ebb4",
        "id": "03bLvqB-HaH1",
        "colab": {
          "base_uri": "https://localhost:8080/",
          "height": 230
        }
      },
      "source": [
        "output_file['outcome_type']"
      ],
      "execution_count": 63,
      "outputs": [
        {
          "output_type": "execute_result",
          "data": {
            "text/plain": [
              "0               Adoption\n",
              "1               Adoption\n",
              "2               Adoption\n",
              "3               Transfer\n",
              "4               Transfer\n",
              "              ...       \n",
              "31864           Transfer\n",
              "31865         Euthanasia\n",
              "31866         Euthanasia\n",
              "31867           Transfer\n",
              "31868    Return to Owner\n",
              "Name: outcome_type, Length: 31869, dtype: object"
            ]
          },
          "metadata": {
            "tags": []
          },
          "execution_count": 63
        }
      ]
    },
    {
      "cell_type": "code",
      "metadata": {
        "colab_type": "code",
        "id": "NbYm18RTHaH3",
        "colab": {
          "base_uri": "https://localhost:8080/",
          "height": 672
        },
        "outputId": "1cf378e6-baec-48fd-bff9-ec05226279f1"
      },
      "source": [
        "output_file"
      ],
      "execution_count": 64,
      "outputs": [
        {
          "output_type": "execute_result",
          "data": {
            "text/html": [
              "<div>\n",
              "<style scoped>\n",
              "    .dataframe tbody tr th:only-of-type {\n",
              "        vertical-align: middle;\n",
              "    }\n",
              "\n",
              "    .dataframe tbody tr th {\n",
              "        vertical-align: top;\n",
              "    }\n",
              "\n",
              "    .dataframe thead th {\n",
              "        text-align: right;\n",
              "    }\n",
              "</style>\n",
              "<table border=\"1\" class=\"dataframe\">\n",
              "  <thead>\n",
              "    <tr style=\"text-align: right;\">\n",
              "      <th></th>\n",
              "      <th>animal_id_outcome</th>\n",
              "      <th>animal_type</th>\n",
              "      <th>breed</th>\n",
              "      <th>color</th>\n",
              "      <th>intake_condition</th>\n",
              "      <th>intake_type</th>\n",
              "      <th>sex_upon_intake</th>\n",
              "      <th>age_upon_intake_(years)</th>\n",
              "      <th>age_upon_intake_(days)</th>\n",
              "      <th>intake_number</th>\n",
              "      <th>time_in_shelter_days</th>\n",
              "      <th>sex_upon_outcome</th>\n",
              "      <th>age_upon_outcome_(years)</th>\n",
              "      <th>age_upon_outcome_(days,Generated)</th>\n",
              "      <th>outcome_type</th>\n",
              "    </tr>\n",
              "  </thead>\n",
              "  <tbody>\n",
              "    <tr>\n",
              "      <th>0</th>\n",
              "      <td>A723133</td>\n",
              "      <td>Cat</td>\n",
              "      <td>Domestic Shorthair Mix</td>\n",
              "      <td>Brown Tabby</td>\n",
              "      <td>Nursing</td>\n",
              "      <td>Stray</td>\n",
              "      <td>Intact Female</td>\n",
              "      <td>3.000000</td>\n",
              "      <td>1095</td>\n",
              "      <td>1</td>\n",
              "      <td>5.200000</td>\n",
              "      <td>Spayed Female</td>\n",
              "      <td>3.000000</td>\n",
              "      <td>1100.200000</td>\n",
              "      <td>Adoption</td>\n",
              "    </tr>\n",
              "    <tr>\n",
              "      <th>1</th>\n",
              "      <td>A723134</td>\n",
              "      <td>Cat</td>\n",
              "      <td>Domestic Shorthair Mix</td>\n",
              "      <td>Brown Tabby</td>\n",
              "      <td>Nursing</td>\n",
              "      <td>Stray</td>\n",
              "      <td>Intact Female</td>\n",
              "      <td>0.076712</td>\n",
              "      <td>28</td>\n",
              "      <td>1</td>\n",
              "      <td>34.257639</td>\n",
              "      <td>Spayed Female</td>\n",
              "      <td>0.164384</td>\n",
              "      <td>62.257639</td>\n",
              "      <td>Adoption</td>\n",
              "    </tr>\n",
              "    <tr>\n",
              "      <th>2</th>\n",
              "      <td>A723135</td>\n",
              "      <td>Cat</td>\n",
              "      <td>Domestic Shorthair Mix</td>\n",
              "      <td>Brown Tabby</td>\n",
              "      <td>Nursing</td>\n",
              "      <td>Stray</td>\n",
              "      <td>Intact Male</td>\n",
              "      <td>0.076712</td>\n",
              "      <td>28</td>\n",
              "      <td>1</td>\n",
              "      <td>32.520139</td>\n",
              "      <td>Neutered Male</td>\n",
              "      <td>0.164384</td>\n",
              "      <td>60.520139</td>\n",
              "      <td>Adoption</td>\n",
              "    </tr>\n",
              "    <tr>\n",
              "      <th>3</th>\n",
              "      <td>A723136</td>\n",
              "      <td>Cat</td>\n",
              "      <td>Domestic Shorthair Mix</td>\n",
              "      <td>Brown Tabby</td>\n",
              "      <td>Nursing</td>\n",
              "      <td>Stray</td>\n",
              "      <td>Intact Female</td>\n",
              "      <td>0.076712</td>\n",
              "      <td>28</td>\n",
              "      <td>1</td>\n",
              "      <td>31.094444</td>\n",
              "      <td>Intact Female</td>\n",
              "      <td>0.082192</td>\n",
              "      <td>59.094444</td>\n",
              "      <td>Transfer</td>\n",
              "    </tr>\n",
              "    <tr>\n",
              "      <th>4</th>\n",
              "      <td>A723137</td>\n",
              "      <td>Cat</td>\n",
              "      <td>Domestic Shorthair Mix</td>\n",
              "      <td>Blue Tabby</td>\n",
              "      <td>Nursing</td>\n",
              "      <td>Stray</td>\n",
              "      <td>Intact Female</td>\n",
              "      <td>0.076712</td>\n",
              "      <td>28</td>\n",
              "      <td>1</td>\n",
              "      <td>37.007639</td>\n",
              "      <td>Intact Female</td>\n",
              "      <td>0.164384</td>\n",
              "      <td>65.007639</td>\n",
              "      <td>Transfer</td>\n",
              "    </tr>\n",
              "    <tr>\n",
              "      <th>...</th>\n",
              "      <td>...</td>\n",
              "      <td>...</td>\n",
              "      <td>...</td>\n",
              "      <td>...</td>\n",
              "      <td>...</td>\n",
              "      <td>...</td>\n",
              "      <td>...</td>\n",
              "      <td>...</td>\n",
              "      <td>...</td>\n",
              "      <td>...</td>\n",
              "      <td>...</td>\n",
              "      <td>...</td>\n",
              "      <td>...</td>\n",
              "      <td>...</td>\n",
              "      <td>...</td>\n",
              "    </tr>\n",
              "    <tr>\n",
              "      <th>31864</th>\n",
              "      <td>A769060</td>\n",
              "      <td>Cat</td>\n",
              "      <td>Domestic Shorthair Mix</td>\n",
              "      <td>Tortie</td>\n",
              "      <td>Normal</td>\n",
              "      <td>Stray</td>\n",
              "      <td>Unknown</td>\n",
              "      <td>0.038356</td>\n",
              "      <td>14</td>\n",
              "      <td>1</td>\n",
              "      <td>0.077083</td>\n",
              "      <td>Unknown</td>\n",
              "      <td>0.038356</td>\n",
              "      <td>14.077083</td>\n",
              "      <td>Transfer</td>\n",
              "    </tr>\n",
              "    <tr>\n",
              "      <th>31865</th>\n",
              "      <td>A769064</td>\n",
              "      <td>Other</td>\n",
              "      <td>Bat Mix</td>\n",
              "      <td>Brown</td>\n",
              "      <td>Normal</td>\n",
              "      <td>Wildlife</td>\n",
              "      <td>Unknown</td>\n",
              "      <td>2.000000</td>\n",
              "      <td>730</td>\n",
              "      <td>1</td>\n",
              "      <td>0.053472</td>\n",
              "      <td>Unknown</td>\n",
              "      <td>2.000000</td>\n",
              "      <td>730.053472</td>\n",
              "      <td>Euthanasia</td>\n",
              "    </tr>\n",
              "    <tr>\n",
              "      <th>31866</th>\n",
              "      <td>A769065</td>\n",
              "      <td>Other</td>\n",
              "      <td>Bat Mix</td>\n",
              "      <td>Brown</td>\n",
              "      <td>Normal</td>\n",
              "      <td>Wildlife</td>\n",
              "      <td>Unknown</td>\n",
              "      <td>1.000000</td>\n",
              "      <td>365</td>\n",
              "      <td>1</td>\n",
              "      <td>0.047917</td>\n",
              "      <td>Unknown</td>\n",
              "      <td>1.000000</td>\n",
              "      <td>365.047917</td>\n",
              "      <td>Euthanasia</td>\n",
              "    </tr>\n",
              "    <tr>\n",
              "      <th>31867</th>\n",
              "      <td>A769066</td>\n",
              "      <td>Dog</td>\n",
              "      <td>Labrador Retriever Mix</td>\n",
              "      <td>Black/White</td>\n",
              "      <td>Normal</td>\n",
              "      <td>Stray</td>\n",
              "      <td>Intact Male</td>\n",
              "      <td>0.410959</td>\n",
              "      <td>150</td>\n",
              "      <td>1</td>\n",
              "      <td>1.762500</td>\n",
              "      <td>Intact Male</td>\n",
              "      <td>0.821918</td>\n",
              "      <td>151.762500</td>\n",
              "      <td>Transfer</td>\n",
              "    </tr>\n",
              "    <tr>\n",
              "      <th>31868</th>\n",
              "      <td>A769067</td>\n",
              "      <td>Dog</td>\n",
              "      <td>Boxer Mix</td>\n",
              "      <td>Brown Brindle</td>\n",
              "      <td>Aged</td>\n",
              "      <td>Stray</td>\n",
              "      <td>Spayed Female</td>\n",
              "      <td>10.000000</td>\n",
              "      <td>3650</td>\n",
              "      <td>1</td>\n",
              "      <td>0.813889</td>\n",
              "      <td>Spayed Female</td>\n",
              "      <td>10.000000</td>\n",
              "      <td>3650.813889</td>\n",
              "      <td>Return to Owner</td>\n",
              "    </tr>\n",
              "  </tbody>\n",
              "</table>\n",
              "<p>31869 rows × 15 columns</p>\n",
              "</div>"
            ],
            "text/plain": [
              "      animal_id_outcome  ...     outcome_type\n",
              "0               A723133  ...         Adoption\n",
              "1               A723134  ...         Adoption\n",
              "2               A723135  ...         Adoption\n",
              "3               A723136  ...         Transfer\n",
              "4               A723137  ...         Transfer\n",
              "...                 ...  ...              ...\n",
              "31864           A769060  ...         Transfer\n",
              "31865           A769064  ...       Euthanasia\n",
              "31866           A769065  ...       Euthanasia\n",
              "31867           A769066  ...         Transfer\n",
              "31868           A769067  ...  Return to Owner\n",
              "\n",
              "[31869 rows x 15 columns]"
            ]
          },
          "metadata": {
            "tags": []
          },
          "execution_count": 64
        }
      ]
    },
    {
      "cell_type": "code",
      "metadata": {
        "colab_type": "code",
        "id": "5JzZndCDHaH6",
        "colab": {}
      },
      "source": [
        "output_file_final = output_file[['animal_id_outcome','outcome_type']]"
      ],
      "execution_count": 0,
      "outputs": []
    },
    {
      "cell_type": "markdown",
      "metadata": {
        "colab_type": "text",
        "id": "oNBIKGWQHaH9"
      },
      "source": [
        "Removing the index col"
      ]
    },
    {
      "cell_type": "code",
      "metadata": {
        "colab_type": "code",
        "id": "iQ08_S_YHaH-",
        "colab": {}
      },
      "source": [
        "output_file_final.to_csv('output_file_from_tunedXGboost.csv',index=False)"
      ],
      "execution_count": 0,
      "outputs": []
    },
    {
      "cell_type": "markdown",
      "metadata": {
        "colab_type": "text",
        "id": "bvGX2KTbHaIA"
      },
      "source": [
        " "
      ]
    }
  ]
}